{
  "cells": [
    {
      "cell_type": "code",
      "execution_count": 1,
      "metadata": {
        "colab": {
          "base_uri": "https://localhost:8080/"
        },
        "execution": {
          "iopub.execute_input": "2024-09-09T16:29:52.943398Z",
          "iopub.status.busy": "2024-09-09T16:29:52.943044Z",
          "iopub.status.idle": "2024-09-09T16:30:06.177002Z",
          "shell.execute_reply": "2024-09-09T16:30:06.176126Z",
          "shell.execute_reply.started": "2024-09-09T16:29:52.943364Z"
        },
        "id": "5YVUiWSb8rIS",
        "outputId": "17db3aaa-8e11-48df-e3c6-4afa924a655a",
        "trusted": true
      },
      "outputs": [
        {
          "name": "stderr",
          "output_type": "stream",
          "text": [
            "[nltk_data] Downloading package punkt to /root/nltk_data...\n",
            "[nltk_data]   Unzipping tokenizers/punkt.zip.\n"
          ]
        },
        {
          "data": {
            "text/plain": [
              "True"
            ]
          },
          "execution_count": 1,
          "metadata": {},
          "output_type": "execute_result"
        }
      ],
      "source": [
        "#@title Import Required Libraries\n",
        "import re\n",
        "import torch\n",
        "import numpy as np\n",
        "import torch.nn as nn\n",
        "import torch.optim as optim\n",
        "import torch.nn.functional as F\n",
        "from torch.utils.data import DataLoader, TensorDataset\n",
        "import random\n",
        "import nltk\n",
        "from nltk.tokenize import sent_tokenize, word_tokenize\n",
        "nltk.download('punkt')"
      ]
    },
    {
      "cell_type": "code",
      "execution_count": null,
      "metadata": {
        "colab": {
          "base_uri": "https://localhost:8080/"
        },
        "execution": {
          "iopub.execute_input": "2024-09-09T16:30:06.179802Z",
          "iopub.status.busy": "2024-09-09T16:30:06.179133Z",
          "iopub.status.idle": "2024-09-09T16:30:19.928554Z",
          "shell.execute_reply": "2024-09-09T16:30:19.927500Z",
          "shell.execute_reply.started": "2024-09-09T16:30:06.179757Z"
        },
        "id": "7sTYDBZdQPuc",
        "outputId": "6927a88a-ee5e-4eca-c4fb-6c18e54032f2",
        "trusted": true
      },
      "outputs": [
        {
          "name": "stdout",
          "output_type": "stream",
          "text": [
            "Requirement already satisfied: wandb in /opt/conda/lib/python3.10/site-packages (0.17.7)\n",
            "Requirement already satisfied: click!=8.0.0,>=7.1 in /opt/conda/lib/python3.10/site-packages (from wandb) (8.1.7)\n",
            "Requirement already satisfied: docker-pycreds>=0.4.0 in /opt/conda/lib/python3.10/site-packages (from wandb) (0.4.0)\n",
            "Requirement already satisfied: gitpython!=3.1.29,>=1.0.0 in /opt/conda/lib/python3.10/site-packages (from wandb) (3.1.43)\n",
            "Requirement already satisfied: platformdirs in /opt/conda/lib/python3.10/site-packages (from wandb) (3.11.0)\n",
            "Requirement already satisfied: protobuf!=4.21.0,<6,>=3.19.0 in /opt/conda/lib/python3.10/site-packages (from wandb) (3.20.3)\n",
            "Requirement already satisfied: psutil>=5.0.0 in /opt/conda/lib/python3.10/site-packages (from wandb) (5.9.3)\n",
            "Requirement already satisfied: pyyaml in /opt/conda/lib/python3.10/site-packages (from wandb) (6.0.2)\n",
            "Requirement already satisfied: requests<3,>=2.0.0 in /opt/conda/lib/python3.10/site-packages (from wandb) (2.32.3)\n",
            "Requirement already satisfied: sentry-sdk>=1.0.0 in /opt/conda/lib/python3.10/site-packages (from wandb) (2.13.0)\n",
            "Requirement already satisfied: setproctitle in /opt/conda/lib/python3.10/site-packages (from wandb) (1.3.3)\n",
            "Requirement already satisfied: setuptools in /opt/conda/lib/python3.10/site-packages (from wandb) (70.0.0)\n",
            "Requirement already satisfied: six>=1.4.0 in /opt/conda/lib/python3.10/site-packages (from docker-pycreds>=0.4.0->wandb) (1.16.0)\n",
            "Requirement already satisfied: gitdb<5,>=4.0.1 in /opt/conda/lib/python3.10/site-packages (from gitpython!=3.1.29,>=1.0.0->wandb) (4.0.11)\n",
            "Requirement already satisfied: charset-normalizer<4,>=2 in /opt/conda/lib/python3.10/site-packages (from requests<3,>=2.0.0->wandb) (3.3.2)\n",
            "Requirement already satisfied: idna<4,>=2.5 in /opt/conda/lib/python3.10/site-packages (from requests<3,>=2.0.0->wandb) (3.7)\n",
            "Requirement already satisfied: urllib3<3,>=1.21.1 in /opt/conda/lib/python3.10/site-packages (from requests<3,>=2.0.0->wandb) (1.26.18)\n",
            "Requirement already satisfied: certifi>=2017.4.17 in /opt/conda/lib/python3.10/site-packages (from requests<3,>=2.0.0->wandb) (2024.7.4)\n",
            "Requirement already satisfied: smmap<6,>=3.0.1 in /opt/conda/lib/python3.10/site-packages (from gitdb<5,>=4.0.1->gitpython!=3.1.29,>=1.0.0->wandb) (5.0.1)\n",
            "Note: you may need to restart the kernel to use updated packages.\n"
          ]
        }
      ],
      "source": [
        "pip install wandb"
      ]
    },
    {
      "cell_type": "code",
      "execution_count": null,
      "metadata": {
        "colab": {
          "base_uri": "https://localhost:8080/"
        },
        "execution": {
          "iopub.execute_input": "2024-09-09T16:30:19.930159Z",
          "iopub.status.busy": "2024-09-09T16:30:19.929859Z",
          "iopub.status.idle": "2024-09-09T16:30:19.982216Z",
          "shell.execute_reply": "2024-09-09T16:30:19.981189Z",
          "shell.execute_reply.started": "2024-09-09T16:30:19.930128Z"
        },
        "id": "sEvNsqEKTX5O",
        "outputId": "1aeefdef-99b9-414a-dcb6-88080155c0ef",
        "trusted": true
      },
      "outputs": [
        {
          "name": "stdout",
          "output_type": "stream",
          "text": [
            "Using device: cuda\n"
          ]
        }
      ],
      "source": [
        "#@title Change the Device\n",
        "device = torch.device('cuda' if torch.cuda.is_available() else 'cpu')\n",
        "print(f'Using device: {device}')"
      ]
    },
    {
      "cell_type": "code",
      "execution_count": null,
      "metadata": {
        "colab": {
          "base_uri": "https://localhost:8080/",
          "height": 325
        },
        "execution": {
          "iopub.execute_input": "2024-09-09T16:30:23.039784Z",
          "iopub.status.busy": "2024-09-09T16:30:23.039123Z",
          "iopub.status.idle": "2024-09-09T16:31:25.021728Z",
          "shell.execute_reply": "2024-09-09T16:31:25.020724Z",
          "shell.execute_reply.started": "2024-09-09T16:30:23.039742Z"
        },
        "id": "UHDiA2H5Q-Ce",
        "outputId": "356ebf41-210b-46f3-9098-345fffc58b26",
        "trusted": true
      },
      "outputs": [
        {
          "name": "stderr",
          "output_type": "stream",
          "text": [
            "\u001b[34m\u001b[1mwandb\u001b[0m: Logging into wandb.ai. (Learn how to deploy a W&B server locally: https://wandb.me/wandb-server)\n",
            "\u001b[34m\u001b[1mwandb\u001b[0m: You can find your API key in your browser here: https://wandb.ai/authorize\n",
            "\u001b[34m\u001b[1mwandb\u001b[0m: Paste an API key from your profile and hit enter, or press ctrl+c to quit:"
          ]
        },
        {
          "name": "stdout",
          "output_type": "stream",
          "text": [
            "  ········································\n"
          ]
        },
        {
          "name": "stderr",
          "output_type": "stream",
          "text": [
            "\u001b[34m\u001b[1mwandb\u001b[0m: Appending key for api.wandb.ai to your netrc file: /root/.netrc\n"
          ]
        },
        {
          "data": {
            "text/html": [
              "wandb version 0.17.9 is available!  To upgrade, please run:\n",
              " $ pip install wandb --upgrade"
            ],
            "text/plain": [
              "<IPython.core.display.HTML object>"
            ]
          },
          "metadata": {},
          "output_type": "display_data"
        },
        {
          "data": {
            "text/html": [
              "Tracking run with wandb version 0.17.7"
            ],
            "text/plain": [
              "<IPython.core.display.HTML object>"
            ]
          },
          "metadata": {},
          "output_type": "display_data"
        },
        {
          "data": {
            "text/html": [
              "Run data is saved locally in <code>/kaggle/working/wandb/run-20240909_163107-ge7okz91</code>"
            ],
            "text/plain": [
              "<IPython.core.display.HTML object>"
            ]
          },
          "metadata": {},
          "output_type": "display_data"
        },
        {
          "data": {
            "text/html": [
              "Syncing run <strong><a href='https://wandb.ai/oops-moment-iiit-hyderabad/ANLP%20Hyperparameter%20tuning_2/runs/ge7okz91' target=\"_blank\">daily-sea-1</a></strong> to <a href='https://wandb.ai/oops-moment-iiit-hyderabad/ANLP%20Hyperparameter%20tuning_2' target=\"_blank\">Weights & Biases</a> (<a href='https://wandb.me/run' target=\"_blank\">docs</a>)<br/>"
            ],
            "text/plain": [
              "<IPython.core.display.HTML object>"
            ]
          },
          "metadata": {},
          "output_type": "display_data"
        },
        {
          "data": {
            "text/html": [
              " View project at <a href='https://wandb.ai/oops-moment-iiit-hyderabad/ANLP%20Hyperparameter%20tuning_2' target=\"_blank\">https://wandb.ai/oops-moment-iiit-hyderabad/ANLP%20Hyperparameter%20tuning_2</a>"
            ],
            "text/plain": [
              "<IPython.core.display.HTML object>"
            ]
          },
          "metadata": {},
          "output_type": "display_data"
        },
        {
          "data": {
            "text/html": [
              " View run at <a href='https://wandb.ai/oops-moment-iiit-hyderabad/ANLP%20Hyperparameter%20tuning_2/runs/ge7okz91' target=\"_blank\">https://wandb.ai/oops-moment-iiit-hyderabad/ANLP%20Hyperparameter%20tuning_2/runs/ge7okz91</a>"
            ],
            "text/plain": [
              "<IPython.core.display.HTML object>"
            ]
          },
          "metadata": {},
          "output_type": "display_data"
        },
        {
          "data": {
            "text/html": [
              "<button onClick=\"this.nextSibling.style.display='block';this.style.display='none';\">Display W&B run</button><iframe src='https://wandb.ai/oops-moment-iiit-hyderabad/ANLP%20Hyperparameter%20tuning_2/runs/ge7okz91?jupyter=true' style='border:none;width:100%;height:420px;display:none;'></iframe>"
            ],
            "text/plain": [
              "<wandb.sdk.wandb_run.Run at 0x7accb04ac850>"
            ]
          },
          "execution_count": 5,
          "metadata": {},
          "output_type": "execute_result"
        }
      ],
      "source": [
        "#@title Initialise WandB Project\n",
        "import wandb\n",
        "# Initialize wandb\n",
        "wandb.init(project=\"ANLP Hyperparameter tuning_2\")  # Replace with your wandb username"
      ]
    },
    {
      "cell_type": "code",
      "execution_count": null,
      "metadata": {
        "execution": {
          "iopub.execute_input": "2024-09-09T16:34:48.291241Z",
          "iopub.status.busy": "2024-09-09T16:34:48.290337Z",
          "iopub.status.idle": "2024-09-09T16:35:00.247274Z",
          "shell.execute_reply": "2024-09-09T16:35:00.246196Z",
          "shell.execute_reply.started": "2024-09-09T16:34:48.291183Z"
        },
        "id": "PTNR-CP3izZx",
        "trusted": true
      },
      "outputs": [],
      "source": [
        "#@title Helper Functions to Preprocess the Text\n",
        "def preprocess_text(text):\n",
        "    \"\"\"\n",
        "    Preprocess the text by:\n",
        "    - Tokenizing sentences\n",
        "    - Removing special characte\n",
        "    rs and digits\n",
        "    - Converting to lowercase\n",
        "    \"\"\"\n",
        "    sentences = sent_tokenize(text)\n",
        "    cleaned_sentences = []\n",
        "    for sentence in sentences:\n",
        "        sentence = re.sub(r'[^a-zA-Z\\s]', '', sentence)\n",
        "        sentence = sentence.lower()\n",
        "        words = word_tokenize(sentence)\n",
        "        if words:\n",
        "            cleaned_sentences.append(words)\n",
        "\n",
        "    return cleaned_sentences\n",
        "\n",
        "def load_data(file_path):\n",
        "    \"\"\"\n",
        "    Loads text from a file and returns the cleaned sentences.\n",
        "    \"\"\"\n",
        "    with open(file_path, 'r') as f:\n",
        "        text = f.read()  # Read the entire text\n",
        "    return preprocess_text(text)\n",
        "\n",
        "# Load and preprocess the data\n",
        "file_path = '/kaggle/input/training/Auguste_Maquet.txt'\n",
        "sentences = load_data(file_path)\n"
      ]
    },
    {
      "cell_type": "code",
      "execution_count": null,
      "metadata": {
        "execution": {
          "iopub.execute_input": "2024-09-09T16:35:00.249845Z",
          "iopub.status.busy": "2024-09-09T16:35:00.249421Z",
          "iopub.status.idle": "2024-09-09T16:35:00.257173Z",
          "shell.execute_reply": "2024-09-09T16:35:00.256171Z",
          "shell.execute_reply.started": "2024-09-09T16:35:00.249794Z"
        },
        "id": "Avp8v_vsiYmh",
        "trusted": true
      },
      "outputs": [],
      "source": [
        "#@title Build the vocab for the training data.\n",
        "def build_vocab(sentences, glove_dictionary):\n",
        "    vocab = {'<UNK>': 0}\n",
        "    for sent in sentences:\n",
        "        for word in sent:\n",
        "            if word in glove_dictionary:\n",
        "                if word not in vocab:\n",
        "                    vocab[word] = len(vocab)\n",
        "    return vocab"
      ]
    },
    {
      "cell_type": "code",
      "execution_count": null,
      "metadata": {
        "execution": {
          "iopub.execute_input": "2024-09-09T16:35:00.258752Z",
          "iopub.status.busy": "2024-09-09T16:35:00.258345Z",
          "iopub.status.idle": "2024-09-09T16:35:37.787738Z",
          "shell.execute_reply": "2024-09-09T16:35:37.786661Z",
          "shell.execute_reply.started": "2024-09-09T16:35:00.258710Z"
        },
        "id": "cT8GR6cOHVqI",
        "trusted": true
      },
      "outputs": [],
      "source": [
        "#@title Obtain Glove Embeddings.\n",
        "glove_dict = {}\n",
        "with open('/kaggle/input/gloves/glove.6B.300d.txt', encoding='utf-8') as file:\n",
        "    for line in file:\n",
        "        values = line.split()\n",
        "        word = values[0]\n",
        "        word_embedding = [float(x) for x in values[1:]]\n",
        "        glove_dict[word] = word_embedding"
      ]
    },
    {
      "cell_type": "code",
      "execution_count": null,
      "metadata": {
        "colab": {
          "base_uri": "https://localhost:8080/"
        },
        "execution": {
          "iopub.execute_input": "2024-09-09T16:35:37.790225Z",
          "iopub.status.busy": "2024-09-09T16:35:37.789906Z",
          "iopub.status.idle": "2024-09-09T16:35:37.835439Z",
          "shell.execute_reply": "2024-09-09T16:35:37.834590Z",
          "shell.execute_reply.started": "2024-09-09T16:35:37.790191Z"
        },
        "id": "Fqoqn5yqu6IC",
        "outputId": "f22b37ea-5e6c-44ee-cde4-41002702947c",
        "trusted": true
      },
      "outputs": [
        {
          "name": "stdout",
          "output_type": "stream",
          "text": [
            "Train sentences: 24785\n",
            "Test sentences: 7082\n",
            "Validation sentences: 3541\n"
          ]
        }
      ],
      "source": [
        "random.shuffle(sentences)\n",
        "train_split = int(0.7 * len(sentences))\n",
        "test_split = int(0.9 * len(sentences))\n",
        "\n",
        "train_sentences = sentences[:train_split]\n",
        "test_sentences = sentences[train_split:test_split]\n",
        "val_sentences = sentences[test_split:]\n",
        "\n",
        "print(f\"Train sentences: {len(train_sentences)}\")\n",
        "print(f\"Test sentences: {len(test_sentences)}\")\n",
        "print(f\"Validation sentences: {len(val_sentences)}\")\n"
      ]
    },
    {
      "cell_type": "code",
      "execution_count": null,
      "metadata": {
        "execution": {
          "iopub.execute_input": "2024-09-09T16:35:37.837057Z",
          "iopub.status.busy": "2024-09-09T16:35:37.836697Z",
          "iopub.status.idle": "2024-09-09T16:35:38.000956Z",
          "shell.execute_reply": "2024-09-09T16:35:37.999855Z",
          "shell.execute_reply.started": "2024-09-09T16:35:37.837014Z"
        },
        "id": "2pSGLGtT8dEF",
        "trusted": true
      },
      "outputs": [],
      "source": [
        "# Load pre-trained embeddings\n",
        "vocab = build_vocab(train_sentences, glove_dict)"
      ]
    },
    {
      "cell_type": "code",
      "execution_count": null,
      "metadata": {
        "colab": {
          "base_uri": "https://localhost:8080/"
        },
        "execution": {
          "iopub.execute_input": "2024-09-09T16:35:38.002794Z",
          "iopub.status.busy": "2024-09-09T16:35:38.002353Z",
          "iopub.status.idle": "2024-09-09T16:35:38.009707Z",
          "shell.execute_reply": "2024-09-09T16:35:38.008430Z",
          "shell.execute_reply.started": "2024-09-09T16:35:38.002742Z"
        },
        "id": "Zs3oAXajvafO",
        "outputId": "220327c8-b235-43fd-ad99-012c0e673ab3",
        "trusted": true
      },
      "outputs": [
        {
          "name": "stdout",
          "output_type": "stream",
          "text": [
            "17268\n"
          ]
        }
      ],
      "source": [
        "print(len(vocab))"
      ]
    },
    {
      "cell_type": "code",
      "execution_count": null,
      "metadata": {
        "colab": {
          "base_uri": "https://localhost:8080/"
        },
        "execution": {
          "iopub.execute_input": "2024-09-09T16:35:38.011148Z",
          "iopub.status.busy": "2024-09-09T16:35:38.010857Z",
          "iopub.status.idle": "2024-09-09T16:35:38.025327Z",
          "shell.execute_reply": "2024-09-09T16:35:38.024235Z",
          "shell.execute_reply.started": "2024-09-09T16:35:38.011117Z"
        },
        "id": "MHtggE5TNcg8",
        "outputId": "055d9edf-9e6d-4672-e75d-3cf08f05b8d2",
        "trusted": true
      },
      "outputs": [
        {
          "name": "stdout",
          "output_type": "stream",
          "text": [
            "The word with index 204 is 'top'\n"
          ]
        }
      ],
      "source": [
        "index_to_word = {index: word for word, index in vocab.items()}\n",
        "index = 204\n",
        "word = index_to_word.get(index, '<UNK>')\n",
        "print(f\"The word with index {index} is '{word}'\")"
      ]
    },
    {
      "cell_type": "code",
      "execution_count": null,
      "metadata": {
        "execution": {
          "iopub.execute_input": "2024-09-09T16:35:38.029628Z",
          "iopub.status.busy": "2024-09-09T16:35:38.029263Z",
          "iopub.status.idle": "2024-09-09T16:35:38.046751Z",
          "shell.execute_reply": "2024-09-09T16:35:38.045630Z",
          "shell.execute_reply.started": "2024-09-09T16:35:38.029568Z"
        },
        "id": "93zN1-lp9BjU",
        "trusted": true
      },
      "outputs": [],
      "source": [
        "embedding_matrix = [glove_dict[word] if word in glove_dict else [0]*300 for word in vocab]"
      ]
    },
    {
      "cell_type": "code",
      "execution_count": null,
      "metadata": {
        "execution": {
          "iopub.execute_input": "2024-09-09T16:35:38.048534Z",
          "iopub.status.busy": "2024-09-09T16:35:38.048181Z",
          "iopub.status.idle": "2024-09-09T16:35:38.062393Z",
          "shell.execute_reply": "2024-09-09T16:35:38.059977Z",
          "shell.execute_reply.started": "2024-09-09T16:35:38.048491Z"
        },
        "id": "fPFDDY-DQrw1",
        "trusted": true
      },
      "outputs": [],
      "source": [
        "#@title Input format\n",
        "def build_ngrams(sentences, vocab, n=5):\n",
        "    \"\"\"\n",
        "    Generate n-grams from tokenized sentences and corresponding labels.\n",
        "\n",
        "    Parameters:\n",
        "    - sentences: List of sentences (each sentence is a list of tokens).\n",
        "    - vocab: Dictionary mapping words to indices.\n",
        "    - n: Size of the n-gram (default is 5).\n",
        "\n",
        "    Returns:\n",
        "    - inputs: List of n-gram inputs (prefixes of length n).\n",
        "    - labels: Corresponding labels (the next word after each n-gram).\n",
        "    \"\"\"\n",
        "    inputs = []\n",
        "    labels = []\n",
        "\n",
        "    for sent in sentences:\n",
        "        if len(sent) < n + 1:\n",
        "            continue\n",
        "\n",
        "        for i in range(len(sent) - n):\n",
        "            prefix = sent[i:i+n]\n",
        "            label = sent[i+n]\n",
        "\n",
        "            encoded_prefix = [vocab.get(word, vocab['<UNK>']) for word in prefix]\n",
        "            encoded_label = vocab.get(label, vocab['<UNK>'])\n",
        "\n",
        "            inputs.append(encoded_prefix)\n",
        "            labels.append(encoded_label)\n",
        "\n",
        "    return inputs, labels"
      ]
    },
    {
      "cell_type": "code",
      "execution_count": null,
      "metadata": {
        "execution": {
          "iopub.execute_input": "2024-09-09T16:35:38.067444Z",
          "iopub.status.busy": "2024-09-09T16:35:38.066536Z",
          "iopub.status.idle": "2024-09-09T16:35:42.821263Z",
          "shell.execute_reply": "2024-09-09T16:35:42.820133Z",
          "shell.execute_reply.started": "2024-09-09T16:35:38.067398Z"
        },
        "id": "HdPAtwF-Q_Go",
        "trusted": true
      },
      "outputs": [],
      "source": [
        "train_inputs, train_labels = build_ngrams(train_sentences, vocab, n=5)\n",
        "test_inputs, test_labels = build_ngrams(test_sentences, vocab, n=5)\n",
        "val_inputs, val_labels = build_ngrams(val_sentences, vocab, n=5)"
      ]
    },
    {
      "cell_type": "code",
      "execution_count": null,
      "metadata": {
        "colab": {
          "base_uri": "https://localhost:8080/"
        },
        "execution": {
          "iopub.execute_input": "2024-09-09T16:35:42.823208Z",
          "iopub.status.busy": "2024-09-09T16:35:42.822779Z",
          "iopub.status.idle": "2024-09-09T16:35:42.832100Z",
          "shell.execute_reply": "2024-09-09T16:35:42.831184Z",
          "shell.execute_reply.started": "2024-09-09T16:35:42.823156Z"
        },
        "id": "Vnz6MgOAlM3L",
        "outputId": "4aa303b1-9802-4947-df8c-9367c6443907",
        "trusted": true
      },
      "outputs": [
        {
          "name": "stdout",
          "output_type": "stream",
          "text": [
            "Number of samples for training are  540460\n",
            "Number of samples for testing are  153652\n",
            "Number of samples for validation are  76500\n"
          ]
        }
      ],
      "source": [
        "print(\"Number of samples for training are \",len(train_inputs))\n",
        "print(\"Number of samples for testing are \",len(test_inputs))\n",
        "print(\"Number of samples for validation are \",len(val_inputs))"
      ]
    },
    {
      "cell_type": "code",
      "execution_count": null,
      "metadata": {
        "execution": {
          "iopub.execute_input": "2024-09-09T16:35:42.833769Z",
          "iopub.status.busy": "2024-09-09T16:35:42.833389Z",
          "iopub.status.idle": "2024-09-09T16:35:43.867834Z",
          "shell.execute_reply": "2024-09-09T16:35:43.866630Z",
          "shell.execute_reply.started": "2024-09-09T16:35:42.833727Z"
        },
        "id": "kpmHu6j9TuHW",
        "trusted": true
      },
      "outputs": [],
      "source": [
        "#@title Convert input into Tensors.\n",
        "train_inputs = torch.LongTensor(train_inputs).to(device)\n",
        "train_labels = torch.LongTensor(train_labels).to(device)\n",
        "val_inputs = torch.LongTensor(val_inputs).to(device)\n",
        "val_labels = torch.LongTensor(val_labels).to(device)\n",
        "test_inputs = torch.LongTensor(test_inputs).to(device)\n",
        "test_labels = torch.LongTensor(test_labels).to(device)"
      ]
    },
    {
      "cell_type": "code",
      "execution_count": null,
      "metadata": {
        "execution": {
          "iopub.execute_input": "2024-09-09T16:35:43.869329Z",
          "iopub.status.busy": "2024-09-09T16:35:43.869025Z",
          "iopub.status.idle": "2024-09-09T16:35:43.877402Z",
          "shell.execute_reply": "2024-09-09T16:35:43.876234Z",
          "shell.execute_reply.started": "2024-09-09T16:35:43.869289Z"
        },
        "id": "katZACh1OFOe",
        "trusted": true
      },
      "outputs": [],
      "source": [
        "train_dataset = TensorDataset(train_inputs, train_labels)\n",
        "val_dataset = TensorDataset(val_inputs, val_labels)\n",
        "test_dataset = TensorDataset(test_inputs, test_labels)\n",
        "\n",
        "\n",
        "batch_size = 64\n",
        "train_loader = DataLoader(train_dataset, batch_size=batch_size, shuffle=True)\n",
        "val_loader = DataLoader(val_dataset, batch_size=batch_size)\n",
        "test_loader = DataLoader(test_dataset, batch_size=batch_size)"
      ]
    },
    {
      "cell_type": "code",
      "execution_count": null,
      "metadata": {
        "execution": {
          "iopub.execute_input": "2024-09-09T16:35:43.879895Z",
          "iopub.status.busy": "2024-09-09T16:35:43.879012Z",
          "iopub.status.idle": "2024-09-09T16:35:43.892030Z",
          "shell.execute_reply": "2024-09-09T16:35:43.891231Z",
          "shell.execute_reply.started": "2024-09-09T16:35:43.879839Z"
        },
        "id": "r5xdqP_LOG_k",
        "trusted": true
      },
      "outputs": [],
      "source": [
        "#@title Define NLM class\n",
        "class NLM(nn.Module):\n",
        "    def __init__(self, d_embedding, d_hidden, len_vocab, embedding_matrix, n=5):\n",
        "        \"\"\"\n",
        "        Neural Language Model for n-grams using GELU activation.\n",
        "\n",
        "        Parameters:\n",
        "        - d_embedding: Dimensionality of word embeddings.\n",
        "        - d_hidden: Size of the hidden layer.\n",
        "        - len_vocab: Vocabulary size (output layer).\n",
        "        - embedding_matrix: Pre-trained word embeddings.\n",
        "        - n: Length of the n-grams (default 5).\n",
        "        \"\"\"\n",
        "        super(NLM, self).__init__()\n",
        "\n",
        "        self.n = n  # Allow dynamic n-gram size\n",
        "        self.embeddings = nn.Embedding.from_pretrained(torch.FloatTensor(embedding_matrix), freeze=False).to(device)\n",
        "        self.fc1 = nn.Linear(d_embedding * self.n, d_hidden)\n",
        "        self.fc2 = nn.Linear(d_hidden, d_hidden)\n",
        "        self.fc3 = nn.Linear(d_hidden, len_vocab)\n",
        "        self.dropout = nn.Dropout(0.5)\n",
        "        self.layer_norm = nn.LayerNorm(d_hidden)  # Adding LayerNorm for stability\n",
        "        self.gelu = nn.GELU()  # Using GELU activation\n",
        "\n",
        "    def forward(self, x):\n",
        "        # Embed input n-grams\n",
        "        x = self.embeddings(x)  # [batch_size, n, d_embedding]\n",
        "        x = x.view(x.size(0), -1)  # Flatten the embeddings [batch_size, n * d_embedding]\n",
        "\n",
        "        # Pass through the network with GELU activation\n",
        "        x = self.gelu(self.fc1(x))\n",
        "        x = self.layer_norm(x)  # Normalize\n",
        "        x = self.dropout(x)\n",
        "\n",
        "        x = self.gelu(self.fc2(x))\n",
        "        x = self.layer_norm(x)  # Normalize\n",
        "        x = self.dropout(x)\n",
        "\n",
        "        # Output layer (no softmax here, if using CrossEntropyLoss)\n",
        "        x = self.fc3(x)\n",
        "        return x"
      ]
    },
    {
      "cell_type": "code",
      "execution_count": null,
      "metadata": {
        "execution": {
          "iopub.execute_input": "2024-09-09T16:35:43.893276Z",
          "iopub.status.busy": "2024-09-09T16:35:43.893012Z",
          "iopub.status.idle": "2024-09-09T16:35:45.391164Z",
          "shell.execute_reply": "2024-09-09T16:35:45.390191Z",
          "shell.execute_reply.started": "2024-09-09T16:35:43.893240Z"
        },
        "id": "ioqZdcqFXqMR",
        "trusted": true
      },
      "outputs": [],
      "source": [
        "# Model Parameters\n",
        "d_embedding = 300\n",
        "d_hidden = 300\n",
        "len_vocab = len(vocab)  # Assuming vocab is pre-built\n",
        "n_gram_size = 5  # Define the n-gram size\n",
        "learning_rate = 0.01\n",
        "num_epochs = 10\n",
        "\n",
        "# Initialize the model, loss function, and optimizer\n",
        "model = NLM(d_embedding, d_hidden, len_vocab, embedding_matrix, n=n_gram_size).to(device)\n",
        "loss_fn = nn.CrossEntropyLoss().to(device)\n",
        "# Initialize optimizer and learning rate scheduler\n",
        "optimizer = optim.Adam(model.parameters(), lr=learning_rate)\n"
      ]
    },
    {
      "cell_type": "code",
      "execution_count": null,
      "metadata": {
        "colab": {
          "base_uri": "https://localhost:8080/"
        },
        "execution": {
          "iopub.execute_input": "2024-09-09T11:42:42.317248Z",
          "iopub.status.busy": "2024-09-09T11:42:42.316624Z",
          "iopub.status.idle": "2024-09-09T11:48:36.587569Z",
          "shell.execute_reply": "2024-09-09T11:48:36.586582Z",
          "shell.execute_reply.started": "2024-09-09T11:42:42.317208Z"
        },
        "id": "4BmikVOaYW5j",
        "outputId": "7f6f3ae2-72d3-49fe-ed60-be08dfc26d5c",
        "trusted": true
      },
      "outputs": [
        {
          "name": "stdout",
          "output_type": "stream",
          "text": [
            "Epoch [1/10], Train Loss: 6.1907\n",
            "Epoch [1/10], Train Loss: 6.1907, Val Loss: 5.6569\n",
            "Best model saved with validation loss: 5.6569\n",
            "Epoch [2/10], Train Loss: 5.8529\n",
            "Epoch [2/10], Train Loss: 5.8529, Val Loss: 5.5372\n",
            "Best model saved with validation loss: 5.5372\n",
            "Epoch [3/10], Train Loss: 5.7271\n",
            "Epoch [3/10], Train Loss: 5.7271, Val Loss: 5.4917\n",
            "Best model saved with validation loss: 5.4917\n",
            "Epoch [4/10], Train Loss: 5.6384\n",
            "Epoch [4/10], Train Loss: 5.6384, Val Loss: 5.4649\n",
            "Best model saved with validation loss: 5.4649\n",
            "Epoch [5/10], Train Loss: 5.5630\n",
            "Epoch [5/10], Train Loss: 5.5630, Val Loss: 5.4506\n",
            "Best model saved with validation loss: 5.4506\n",
            "Epoch [6/10], Train Loss: 5.4978\n",
            "Epoch [6/10], Train Loss: 5.4978, Val Loss: 5.4507\n",
            "Validation loss did not improve from 5.4506\n",
            "Epoch [7/10], Train Loss: 5.4427\n",
            "Epoch [7/10], Train Loss: 5.4427, Val Loss: 5.4564\n",
            "Validation loss did not improve from 5.4506\n",
            "Early stopping triggered after 2 epochs without improvement.\n"
          ]
        }
      ],
      "source": [
        "# Training Loop\n",
        "model.train()\n",
        "count_early_stopping = 0\n",
        "max_tries = 2  # Early stopping patience\n",
        "best_val_loss = float('inf')\n",
        "\n",
        "for epoch in range(num_epochs):\n",
        "    total_loss = 0\n",
        "    model.train()\n",
        "    for inputs, labels in train_loader:\n",
        "        inputs, labels = inputs.to(device), labels.to(device)\n",
        "        optimizer.zero_grad()\n",
        "        outputs = model(inputs)\n",
        "        loss = loss_fn(outputs, labels)\n",
        "        loss.backward()\n",
        "        optimizer.step()\n",
        "        total_loss += loss.item()\n",
        "\n",
        "    avg_train_loss = total_loss / len(train_loader)\n",
        "    print(f'Epoch [{epoch+1}/{num_epochs}], Train Loss: {avg_train_loss:.4f}')\n",
        "\n",
        "    # Validation loop\n",
        "    model.eval()\n",
        "    with torch.no_grad():\n",
        "        val_loss = 0\n",
        "        for val_inputs_batch, val_labels_batch in val_loader:\n",
        "            # Move inputs and labels to device\n",
        "            val_inputs_batch, val_labels_batch = val_inputs_batch.to(device), val_labels_batch.to(device)\n",
        "\n",
        "            # Forward pass\n",
        "            val_outputs = model(val_inputs_batch)\n",
        "            loss = loss_fn(val_outputs, val_labels_batch)\n",
        "            val_loss += loss.item()\n",
        "\n",
        "        avg_val_loss = val_loss / len(val_loader)\n",
        "\n",
        "    print(f'Epoch [{epoch+1}/{num_epochs}], Train Loss: {avg_train_loss:.4f}, Val Loss: {avg_val_loss:.4f}')\n",
        "\n",
        "    # Check if validation loss has improved\n",
        "    if avg_val_loss < best_val_loss:\n",
        "        best_val_loss = avg_val_loss\n",
        "        torch.save(model.state_dict(), 'best_model.pth')\n",
        "        count_early_stopping = 0  # Reset early stopping counter\n",
        "        print(f'Best model saved with validation loss: {avg_val_loss:.4f}')\n",
        "    else:\n",
        "        count_early_stopping += 1\n",
        "        print(f'Validation loss did not improve from {best_val_loss:.4f}')\n",
        "\n",
        "        # Early stopping condition\n",
        "        if count_early_stopping == max_tries:\n",
        "            print(f\"Early stopping triggered after {count_early_stopping} epochs without improvement.\")\n",
        "            break"
      ]
    },
    {
      "cell_type": "code",
      "execution_count": null,
      "metadata": {
        "colab": {
          "base_uri": "https://localhost:8080/"
        },
        "execution": {
          "iopub.execute_input": "2024-09-09T11:48:36.589195Z",
          "iopub.status.busy": "2024-09-09T11:48:36.588871Z",
          "iopub.status.idle": "2024-09-09T11:48:36.621856Z",
          "shell.execute_reply": "2024-09-09T11:48:36.620889Z",
          "shell.execute_reply.started": "2024-09-09T11:48:36.589163Z"
        },
        "id": "_4UL3XHfd8G1",
        "outputId": "5de8bd4a-33cf-4e6e-87b2-f9d6a3279f37",
        "trusted": true
      },
      "outputs": [
        {
          "name": "stderr",
          "output_type": "stream",
          "text": [
            "/tmp/ipykernel_36/1559688700.py:1: FutureWarning: You are using `torch.load` with `weights_only=False` (the current default value), which uses the default pickle module implicitly. It is possible to construct malicious pickle data which will execute arbitrary code during unpickling (See https://github.com/pytorch/pytorch/blob/main/SECURITY.md#untrusted-models for more details). In a future release, the default value for `weights_only` will be flipped to `True`. This limits the functions that could be executed during unpickling. Arbitrary objects will no longer be allowed to be loaded via this mode unless they are explicitly allowlisted by the user via `torch.serialization.add_safe_globals`. We recommend you start setting `weights_only=True` for any use case where you don't have full control of the loaded file. Please open an issue on GitHub for any issues related to this experimental feature.\n",
            "  model.load_state_dict(torch.load('best_model.pth'))\n"
          ]
        },
        {
          "data": {
            "text/plain": [
              "<All keys matched successfully>"
            ]
          },
          "execution_count": 22,
          "metadata": {},
          "output_type": "execute_result"
        }
      ],
      "source": [
        "model.load_state_dict(torch.load('best_model.pth'))"
      ]
    },
    {
      "cell_type": "code",
      "execution_count": null,
      "metadata": {
        "execution": {
          "iopub.execute_input": "2024-09-09T16:56:33.757296Z",
          "iopub.status.busy": "2024-09-09T16:56:33.756437Z",
          "iopub.status.idle": "2024-09-09T16:56:50.949776Z",
          "shell.execute_reply": "2024-09-09T16:56:50.948651Z",
          "shell.execute_reply.started": "2024-09-09T16:56:33.757252Z"
        },
        "id": "UHv57uqwSYj9",
        "trusted": true
      },
      "outputs": [],
      "source": [
        "def calculate_perplexity(model, data_loader):\n",
        "    model.eval()\n",
        "    total_loss = 0\n",
        "    with torch.no_grad():\n",
        "        for inputs, labels in data_loader:\n",
        "            inputs = inputs.to(device)\n",
        "            labels = labels.to(device)\n",
        "\n",
        "            outputs = model(inputs)\n",
        "            loss = F.cross_entropy(outputs, labels)\n",
        "            total_loss += loss.item() * inputs.size(0)\n",
        "\n",
        "    avg_loss = total_loss / len(data_loader.dataset)\n",
        "    perplexity = torch.exp(torch.tensor(avg_loss))\n",
        "    return avg_loss,perplexity.item()\n",
        "\n",
        "train_loss,train_perplexity = calculate_perplexity(model, train_loader)\n",
        "val_loss, val_perplexity = calculate_perplexity(model, val_loader)\n",
        "test_loss,test_perplexity = calculate_perplexity(model, test_loader)\n"
      ]
    },
    {
      "cell_type": "code",
      "execution_count": null,
      "metadata": {
        "colab": {
          "base_uri": "https://localhost:8080/"
        },
        "execution": {
          "iopub.execute_input": "2024-09-09T11:48:54.118182Z",
          "iopub.status.busy": "2024-09-09T11:48:54.117857Z",
          "iopub.status.idle": "2024-09-09T11:48:54.127881Z",
          "shell.execute_reply": "2024-09-09T11:48:54.126657Z",
          "shell.execute_reply.started": "2024-09-09T11:48:54.118148Z"
        },
        "id": "2r8SEjF1rQYL",
        "outputId": "739c5752-5342-4fe9-d233-ade1cbfecab1",
        "trusted": true
      },
      "outputs": [
        {
          "name": "stdout",
          "output_type": "stream",
          "text": [
            "Loss on the training dataset  5.166131244535888\n",
            "Perplexity on the training dataset  175.23553466796875\n",
            "Loss on the validation dataset  5.450633646198022\n",
            "Perplexity on the validation dataset  232.90567016601562\n",
            "Loss on the test dataset  5.427621864651622\n",
            "Perplexity on the test dataset  227.60731506347656\n"
          ]
        }
      ],
      "source": [
        "print(\"Loss on the training dataset \",train_loss)\n",
        "print(\"Perplexity on the training dataset \",train_perplexity)\n",
        "print(\"Loss on the validation dataset \",val_loss)\n",
        "print(\"Perplexity on the validation dataset \",val_perplexity)\n",
        "print(\"Loss on the test dataset \",test_loss)\n",
        "print(\"Perplexity on the test dataset \",test_perplexity)"
      ]
    },
    {
      "cell_type": "code",
      "execution_count": null,
      "metadata": {},
      "outputs": [],
      "source": [
        "import torch\n",
        "import torch.nn.functional as F\n",
        "\n",
        "def calculate_perplexity_and_save(model, data_loader, file_name):\n",
        "    model.eval()\n",
        "    total_loss = 0\n",
        "    perplexity_scores = []\n",
        "    \n",
        "    with torch.no_grad():\n",
        "        for batch_idx, (inputs, labels) in enumerate(data_loader):\n",
        "            inputs = inputs.to(device)\n",
        "            labels = labels.to(device)\n",
        "\n",
        "            outputs = model(inputs)\n",
        "            loss = F.cross_entropy(outputs, labels)\n",
        "            total_loss += loss.item() * inputs.size(0)\n",
        "\n",
        "            # Calculate perplexity for this batch\n",
        "            batch_perplexity = torch.exp(loss).item()\n",
        "            perplexity_scores.append((batch_idx, batch_perplexity))\n",
        "\n",
        "    # Calculate the average loss and perplexity\n",
        "    avg_loss = total_loss / len(data_loader.dataset)\n",
        "    avg_perplexity = torch.exp(torch.tensor(avg_loss)).item()\n",
        "\n",
        "    # Save the batch perplexities and the average to a text file\n",
        "    with open(file_name, 'w') as f:\n",
        "        for batch_idx, perplexity in perplexity_scores:\n",
        "            f.write(f'Batch-{batch_idx+1}\\t{perplexity}\\n')\n",
        "        f.write(f'Average\\t{avg_perplexity}\\n')\n",
        "\n",
        "# Example usage for train, validation, and test data\n",
        "calculate_perplexity_and_save(model, train_loader, '2021101075-LM1-train-perplexity.txt')\n",
        "calculate_perplexity_and_save(model, val_loader, '2021101075-LM1-val-perplexity.txt')\n",
        "calculate_perplexity_and_save(model, test_loader, '2021101075-LM1-test-perplexity.txt')"
      ]
    },
    {
      "cell_type": "code",
      "execution_count": null,
      "metadata": {
        "colab": {
          "base_uri": "https://localhost:8080/"
        },
        "execution": {
          "iopub.execute_input": "2024-09-09T11:48:54.129757Z",
          "iopub.status.busy": "2024-09-09T11:48:54.129335Z",
          "iopub.status.idle": "2024-09-09T11:49:11.456833Z",
          "shell.execute_reply": "2024-09-09T11:49:11.455818Z",
          "shell.execute_reply.started": "2024-09-09T11:48:54.129702Z"
        },
        "id": "BnJ4-sM6tsHW",
        "outputId": "17303cce-9c41-44f9-b7ac-9df200582dc2",
        "trusted": true
      },
      "outputs": [
        {
          "name": "stdout",
          "output_type": "stream",
          "text": [
            "Train Accuracy: 0.17469027727910394\n",
            "Validation Accuracy: 0.14965401357484023\n",
            "Test Accuracy: 0.15030153384741676\n"
          ]
        }
      ],
      "source": [
        "def calculate_accuracy(model, data_loader):\n",
        "    model.eval()\n",
        "    total_correct = 0\n",
        "    total_samples = 0\n",
        "\n",
        "    with torch.no_grad():\n",
        "        for inputs, labels in data_loader:\n",
        "            inputs = inputs.to(device)\n",
        "            labels = labels.to(device)\n",
        "\n",
        "            outputs = model(inputs)\n",
        "            _, predicted = torch.max(outputs, 1)\n",
        "            total_correct += (predicted == labels).sum().item()\n",
        "            total_samples += labels.size(0)\n",
        "\n",
        "    accuracy = total_correct / total_samples\n",
        "    return accuracy\n",
        "\n",
        "train_accuracy = calculate_accuracy(model, train_loader)\n",
        "val_accuracy = calculate_accuracy(model, val_loader)\n",
        "test_accuracy = calculate_accuracy(model, test_loader)\n",
        "\n",
        "print(f\"Train Accuracy: {train_accuracy}\")\n",
        "print(f\"Validation Accuracy: {val_accuracy}\")\n",
        "print(f\"Test Accuracy: {test_accuracy}\")"
      ]
    },
    {
      "cell_type": "code",
      "execution_count": null,
      "metadata": {
        "colab": {
          "base_uri": "https://localhost:8080/"
        },
        "execution": {
          "iopub.execute_input": "2024-09-09T11:49:11.458433Z",
          "iopub.status.busy": "2024-09-09T11:49:11.458133Z",
          "iopub.status.idle": "2024-09-09T11:49:13.573451Z",
          "shell.execute_reply": "2024-09-09T11:49:13.572354Z",
          "shell.execute_reply.started": "2024-09-09T11:49:11.458401Z"
        },
        "id": "dXCccRCxT8Ou",
        "outputId": "0f7f7661-0ca8-42c1-9836-cf1f730ee496",
        "trusted": true
      },
      "outputs": [
        {
          "name": "stdout",
          "output_type": "stream",
          "text": [
            "Input context: the counts anxiety was manifested\n",
            "True next word: by\n",
            "Predicted next word: and\n",
            "--------------------------------------------------\n",
            "Input context: counts anxiety was manifested by\n",
            "True next word: a\n",
            "Predicted next word: the\n",
            "--------------------------------------------------\n",
            "Input context: anxiety was manifested by a\n",
            "True next word: bright\n",
            "Predicted next word: man\n",
            "--------------------------------------------------\n",
            "Input context: was manifested by a bright\n",
            "True next word: color\n",
            "Predicted next word: hand\n",
            "--------------------------------------------------\n",
            "Input context: manifested by a bright color\n",
            "True next word: which\n",
            "Predicted next word: of\n",
            "--------------------------------------------------\n",
            "Input context: by a bright color which\n",
            "True next word: seldom\n",
            "Predicted next word: had\n",
            "--------------------------------------------------\n",
            "Input context: a bright color which seldom\n",
            "True next word: appeared\n",
            "Predicted next word: the\n",
            "--------------------------------------------------\n",
            "Input context: bright color which seldom appeared\n",
            "True next word: on\n",
            "Predicted next word: to\n",
            "--------------------------------------------------\n",
            "Input context: color which seldom appeared on\n",
            "True next word: the\n",
            "Predicted next word: the\n",
            "--------------------------------------------------\n",
            "Input context: which seldom appeared on the\n",
            "True next word: face\n",
            "Predicted next word: <UNK>\n",
            "--------------------------------------------------\n",
            "Input context: seldom appeared on the face\n",
            "True next word: of\n",
            "Predicted next word: of\n",
            "--------------------------------------------------\n",
            "Input context: appeared on the face of\n",
            "True next word: that\n",
            "Predicted next word: the\n",
            "--------------------------------------------------\n",
            "Input context: if i could adore madame\n",
            "True next word: de\n",
            "Predicted next word: de\n",
            "--------------------------------------------------\n",
            "Input context: i could adore madame de\n",
            "True next word: villefort\n",
            "Predicted next word: villefort\n",
            "--------------------------------------------------\n",
            "Input context: adore madame de villefort do\n",
            "True next word: not\n",
            "Predicted next word: not\n",
            "--------------------------------------------------\n",
            "Input context: madame de villefort do not\n",
            "True next word: be\n",
            "Predicted next word: be\n",
            "--------------------------------------------------\n",
            "Input context: do not be in such\n",
            "True next word: a\n",
            "Predicted next word: a\n",
            "--------------------------------------------------\n",
            "Input context: be in such a hurry\n",
            "True next word: to\n",
            "Predicted next word: to\n",
            "--------------------------------------------------\n",
            "Input context: and i will even confess\n",
            "True next word: that\n",
            "Predicted next word: that\n",
            "--------------------------------------------------\n",
            "Input context: their purse that monsieur du\n",
            "True next word: vallon\n",
            "Predicted next word: vallon\n",
            "--------------------------------------------------\n",
            "Input context: purse that monsieur du vallon\n",
            "True next word: and\n",
            "Predicted next word: and\n",
            "--------------------------------------------------\n",
            "Input context: that monsieur du vallon and\n",
            "True next word: i\n",
            "Predicted next word: i\n",
            "--------------------------------------------------\n",
            "Input context: only eat for a week\n",
            "True next word: and\n",
            "Predicted next word: and\n",
            "--------------------------------------------------\n",
            "Input context: a week and nothing in\n",
            "True next word: the\n",
            "Predicted next word: the\n",
            "--------------------------------------------------\n",
            "Input context: in the world will seem\n",
            "True next word: to\n",
            "Predicted next word: to\n",
            "--------------------------------------------------\n",
            "Input context: world will seem to you\n",
            "True next word: to\n",
            "Predicted next word: to\n",
            "--------------------------------------------------\n",
            "Input context: seem to you to equal\n",
            "True next word: the\n",
            "Predicted next word: the\n",
            "--------------------------------------------------\n",
            "Input context: you to equal the delicacy\n",
            "True next word: of\n",
            "Predicted next word: of\n",
            "--------------------------------------------------\n",
            "Input context: its flavor which now appears\n",
            "True next word: to\n",
            "Predicted next word: to\n",
            "--------------------------------------------------\n",
            "Input context: now appears to you flat\n",
            "True next word: and\n",
            "Predicted next word: and\n",
            "--------------------------------------------------\n"
          ]
        }
      ],
      "source": [
        "def visualize_predictions(model, data_inputs, data_labels, index_to_word, num_matches=20, num_mismatches=10):\n",
        "    model.eval()\n",
        "    matches_visualized = 0\n",
        "    mismatches_visualized = 0\n",
        "    total_visualized = 0\n",
        "\n",
        "    with torch.no_grad():\n",
        "        for inputs, labels in zip(data_inputs, data_labels):\n",
        "            if matches_visualized >= num_matches and mismatches_visualized >= num_mismatches:\n",
        "                break\n",
        "\n",
        "            inputs = inputs.unsqueeze(0).to(device)\n",
        "            labels = labels.unsqueeze(0).to(device)\n",
        "\n",
        "            outputs = model(inputs)\n",
        "            _, predicted_label_index = torch.max(outputs, 1)\n",
        "            predicted_label_index = predicted_label_index.item()\n",
        "            true_label_index = labels.item()\n",
        "\n",
        "            input_words = [index_to_word[idx] for idx in inputs.squeeze(0).cpu().numpy()]\n",
        "            true_label_word = index_to_word.get(true_label_index, '<UNK>')\n",
        "            predicted_label_word = index_to_word.get(predicted_label_index, '<UNK>')\n",
        "\n",
        "            # Check if the prediction matches the true label\n",
        "            is_match = (predicted_label_index == true_label_index)\n",
        "\n",
        "            if (is_match and matches_visualized < num_matches) or (not is_match and mismatches_visualized < num_mismatches):\n",
        "                # Print the results\n",
        "                print(f\"Input context: {' '.join(input_words)}\")\n",
        "                print(f\"True next word: {true_label_word}\")\n",
        "                print(f\"Predicted next word: {predicted_label_word}\")\n",
        "                print(\"-\" * 50)\n",
        "\n",
        "                # Update counters\n",
        "                if is_match:\n",
        "                    matches_visualized += 1\n",
        "                else:\n",
        "                    mismatches_visualized += 1\n",
        "                total_visualized += 1\n",
        "\n",
        "            if total_visualized >= (num_matches + num_mismatches):\n",
        "                break\n",
        "visualize_predictions(model, test_inputs, test_labels, index_to_word, num_matches=20, num_mismatches=10)"
      ]
    },
    {
      "cell_type": "markdown",
      "metadata": {
        "id": "kIF6fIeWu329"
      },
      "source": [
        "#**HYPERPARAMETER TUNING**"
      ]
    },
    {
      "cell_type": "code",
      "execution_count": null,
      "metadata": {
        "execution": {
          "iopub.execute_input": "2024-09-09T16:35:45.392938Z",
          "iopub.status.busy": "2024-09-09T16:35:45.392362Z",
          "iopub.status.idle": "2024-09-09T16:35:45.397431Z",
          "shell.execute_reply": "2024-09-09T16:35:45.396532Z",
          "shell.execute_reply.started": "2024-09-09T16:35:45.392900Z"
        },
        "id": "6tGBmqaghkjI",
        "trusted": true
      },
      "outputs": [],
      "source": [
        "num_epochs=5"
      ]
    },
    {
      "cell_type": "code",
      "execution_count": null,
      "metadata": {
        "execution": {
          "iopub.execute_input": "2024-09-09T16:57:05.292408Z",
          "iopub.status.busy": "2024-09-09T16:57:05.291519Z",
          "iopub.status.idle": "2024-09-09T16:57:05.308328Z",
          "shell.execute_reply": "2024-09-09T16:57:05.306765Z",
          "shell.execute_reply.started": "2024-09-09T16:57:05.292368Z"
        },
        "id": "jnUJfUV0UxPd",
        "trusted": true
      },
      "outputs": [],
      "source": [
        "def train_and_evaluate(optimizer_type, d_hidden, dropout_rate):\n",
        "    # Initialize the model with current hyperparameters\n",
        "    model = NLM(d_embedding, d_hidden, len_vocab, embedding_matrix, n=n_gram_size).to(device)\n",
        "    model.dropout = nn.Dropout(dropout_rate).to(device)\n",
        "    num_epochs=5\n",
        "    # Choose the optimizer\n",
        "    if optimizer_type == 'adam':\n",
        "        optimizer = optim.Adam(model.parameters(), lr=learning_rate)\n",
        "    elif optimizer_type == 'sgd':\n",
        "        optimizer = optim.SGD(model.parameters(), lr=learning_rate, momentum=0.9)\n",
        "    else:\n",
        "        raise ValueError(\"Unsupported optimizer type\")\n",
        "\n",
        "    # Initialize wandb run\n",
        "    wandb.init(project=\"language_model\", config={\n",
        "        \"optimizer\": optimizer_type,\n",
        "        \"d_hidden\": d_hidden,\n",
        "        \"dropout_rate\": dropout_rate,\n",
        "        \"learning_rate\": learning_rate,\n",
        "        \"epochs\": num_epochs,\n",
        "        \"n_gram_size\": n_gram_size\n",
        "    })\n",
        "    wandb.watch(model, log=\"all\", log_freq=10)\n",
        "\n",
        "    # Training loop\n",
        "    best_val_loss = float('inf')\n",
        "    train_loss_list = []\n",
        "    val_loss_list = []\n",
        "\n",
        "\n",
        "    for epoch in range(num_epochs):\n",
        "        model.train()\n",
        "        total_loss = 0\n",
        "        for inputs, labels in train_loader:\n",
        "            inputs, labels = inputs.to(device), labels.to(device)\n",
        "            optimizer.zero_grad()\n",
        "            outputs = model(inputs)\n",
        "            loss = loss_fn(outputs, labels)\n",
        "            loss.backward()\n",
        "            optimizer.step()\n",
        "            total_loss += loss.item()\n",
        "\n",
        "        avg_train_loss = total_loss / len(train_loader)\n",
        "\n",
        "        # Validation\n",
        "        model.eval()\n",
        "        val_loss = 0\n",
        "        with torch.no_grad():\n",
        "            for val_inputs_batch, val_labels_batch in val_loader:\n",
        "                val_inputs_batch, val_labels_batch = val_inputs_batch.to(device), val_labels_batch.to(device)\n",
        "                val_outputs = model(val_inputs_batch)\n",
        "                loss = loss_fn(val_outputs, val_labels_batch)\n",
        "                val_loss += loss.item()\n",
        "\n",
        "        avg_val_loss = val_loss / len(val_loader)\n",
        "\n",
        "        print(f'Epoch [{epoch+1}/{num_epochs}], Train Loss: {avg_train_loss:.4f}, Val Loss: {avg_val_loss:.4f}')\n",
        "\n",
        "        # Early stopping logic\n",
        "        if avg_val_loss < best_val_loss:\n",
        "            best_val_loss = avg_val_loss\n",
        "            torch.save(model.state_dict(), 'best_model.pth')\n",
        "        else:\n",
        "            print(f\"Validation loss did not improve from {best_val_loss:.4f}\")\n",
        "            break\n",
        "\n",
        "        train_loss_list.append(avg_train_loss)\n",
        "        val_loss_list.append(avg_val_loss)\n",
        "\n",
        "        # Log results to wandb\n",
        "        wandb.log({\n",
        "            \"epoch\": epoch + 1,\n",
        "            \"train_loss\": avg_train_loss,\n",
        "            \"val_loss\": avg_val_loss,\n",
        "            \"best_val_loss\": best_val_loss\n",
        "        })\n",
        "\n",
        "    # Evaluate model on train, validation, and test sets\n",
        "    model.load_state_dict(torch.load('best_model.pth'))\n",
        "    train_loss, train_perplexity = calculate_perplexity(model, train_loader)\n",
        "    val_loss, val_perplexity = calculate_perplexity(model, val_loader)\n",
        "    test_loss, test_perplexity = calculate_perplexity(model, test_loader)\n",
        "\n",
        "    # Log final results to wandb\n",
        "    wandb.log({\n",
        "        \"final_train_perplexity\": train_perplexity,\n",
        "        \"final_val_perplexity\": val_perplexity,\n",
        "        \"final_test_perplexity\": test_perplexity,\n",
        "        \"final_train_loss\": train_loss,\n",
        "        \"final_val_loss\": val_loss,\n",
        "        \"final_test_loss\": test_loss\n",
        "    })\n",
        "\n",
        "    return train_perplexity, val_perplexity, test_perplexity, train_loss_list, val_loss_list"
      ]
    },
    {
      "cell_type": "code",
      "execution_count": null,
      "metadata": {},
      "outputs": [],
      "source": [
        "optimizers=['adam','sgd']\n",
        "d_hidden_values=[200,300,400]\n",
        "d_dropout_values=[0.3,0.5,0.7]\n",
        "\n",
        "for opt in optimizers:\n",
        "    for dim in d_hidden_values:\n",
        "        for dropout in d_dropout_values:\n",
        "            train_perplexity, val_perplexity, test_perplexity, train_loss_list, val_loss_list = train_and_evaluate(opt, dim, dropout)\n",
        "            print(f\"Opt: {opt}, d_hidden: {dim}, dropout: {dropout}, Train Perplexity: {train_perplexity}, Val Perplexity: {val_perplexity}, Test Perplexity: {test_perplexity}\")"
      ]
    },
    {
      "cell_type": "code",
      "execution_count": null,
      "metadata": {
        "colab": {
          "base_uri": "https://localhost:8080/",
          "referenced_widgets": [
            ""
          ]
        },
        "execution": {
          "iopub.execute_input": "2024-09-09T11:56:53.518484Z",
          "iopub.status.busy": "2024-09-09T11:56:53.517810Z",
          "iopub.status.idle": "2024-09-09T12:46:34.121678Z",
          "shell.execute_reply": "2024-09-09T12:46:34.120411Z",
          "shell.execute_reply.started": "2024-09-09T11:56:53.518442Z"
        },
        "id": "BPAOT7cpUHg2",
        "outputId": "e7371299-156c-4d57-f648-d8dd5a7670c4",
        "trusted": true
      },
      "outputs": [
        {
          "name": "stdout",
          "output_type": "stream",
          "text": [
            "Testing optimizer: adam\n"
          ]
        },
        {
          "data": {
            "text/html": [
              "Finishing last run (ID:w3npqil7) before initializing another..."
            ],
            "text/plain": [
              "<IPython.core.display.HTML object>"
            ]
          },
          "metadata": {},
          "output_type": "display_data"
        },
        {
          "data": {
            "application/vnd.jupyter.widget-view+json": {
              "model_id": "",
              "version_major": 2,
              "version_minor": 0
            },
            "text/plain": [
              "VBox(children=(Label(value='0.001 MB of 0.001 MB uploaded\\r'), FloatProgress(value=1.0, max=1.0)))"
            ]
          },
          "metadata": {},
          "output_type": "display_data"
        },
        {
          "data": {
            "text/html": [
              "<style>\n",
              "    table.wandb td:nth-child(1) { padding: 0 10px; text-align: left ; width: auto;} td:nth-child(2) {text-align: left ; width: 100%}\n",
              "    .wandb-row { display: flex; flex-direction: row; flex-wrap: wrap; justify-content: flex-start; width: 100% }\n",
              "    .wandb-col { display: flex; flex-direction: column; flex-basis: 100%; flex: 1; padding: 10px; }\n",
              "    </style>\n",
              "<div class=\"wandb-row\"><div class=\"wandb-col\"><h3>Run history:</h3><br/><table class=\"wandb\"><tr><td>best_val_loss</td><td>▁</td></tr><tr><td>epoch</td><td>▁</td></tr><tr><td>train_loss</td><td>▁</td></tr><tr><td>val_loss</td><td>▁</td></tr></table><br/></div><div class=\"wandb-col\"><h3>Run summary:</h3><br/><table class=\"wandb\"><tr><td>best_val_loss</td><td>5.7022</td></tr><tr><td>epoch</td><td>1</td></tr><tr><td>train_loss</td><td>6.2156</td></tr><tr><td>val_loss</td><td>5.7022</td></tr></table><br/></div></div>"
            ],
            "text/plain": [
              "<IPython.core.display.HTML object>"
            ]
          },
          "metadata": {},
          "output_type": "display_data"
        },
        {
          "data": {
            "text/html": [
              " View run <strong style=\"color:#cdcd00\">resilient-lion-1</strong> at: <a href='https://wandb.ai/oops-moment-iiit-hyderabad/language_model/runs/w3npqil7' target=\"_blank\">https://wandb.ai/oops-moment-iiit-hyderabad/language_model/runs/w3npqil7</a><br/> View project at: <a href='https://wandb.ai/oops-moment-iiit-hyderabad/language_model' target=\"_blank\">https://wandb.ai/oops-moment-iiit-hyderabad/language_model</a><br/>Synced 5 W&B file(s), 0 media file(s), 0 artifact file(s) and 0 other file(s)"
            ],
            "text/plain": [
              "<IPython.core.display.HTML object>"
            ]
          },
          "metadata": {},
          "output_type": "display_data"
        },
        {
          "data": {
            "text/html": [
              "Find logs at: <code>./wandb/run-20240909_114914-w3npqil7/logs</code>"
            ],
            "text/plain": [
              "<IPython.core.display.HTML object>"
            ]
          },
          "metadata": {},
          "output_type": "display_data"
        },
        {
          "data": {
            "text/html": [
              "The new W&B backend becomes opt-out in version 0.18.0; try it out with `wandb.require(\"core\")`! See https://wandb.me/wandb-core for more information."
            ],
            "text/plain": [
              "<IPython.core.display.HTML object>"
            ]
          },
          "metadata": {},
          "output_type": "display_data"
        },
        {
          "data": {
            "text/html": [
              "Successfully finished last run (ID:w3npqil7). Initializing new run:<br/>"
            ],
            "text/plain": [
              "<IPython.core.display.HTML object>"
            ]
          },
          "metadata": {},
          "output_type": "display_data"
        },
        {
          "data": {
            "text/html": [
              "wandb version 0.17.9 is available!  To upgrade, please run:\n",
              " $ pip install wandb --upgrade"
            ],
            "text/plain": [
              "<IPython.core.display.HTML object>"
            ]
          },
          "metadata": {},
          "output_type": "display_data"
        },
        {
          "data": {
            "text/html": [
              "Tracking run with wandb version 0.17.7"
            ],
            "text/plain": [
              "<IPython.core.display.HTML object>"
            ]
          },
          "metadata": {},
          "output_type": "display_data"
        },
        {
          "data": {
            "text/html": [
              "Run data is saved locally in <code>/kaggle/working/wandb/run-20240909_115654-g51oby8b</code>"
            ],
            "text/plain": [
              "<IPython.core.display.HTML object>"
            ]
          },
          "metadata": {},
          "output_type": "display_data"
        },
        {
          "data": {
            "text/html": [
              "Syncing run <strong><a href='https://wandb.ai/oops-moment-iiit-hyderabad/language_model/runs/g51oby8b' target=\"_blank\">deft-silence-2</a></strong> to <a href='https://wandb.ai/oops-moment-iiit-hyderabad/language_model' target=\"_blank\">Weights & Biases</a> (<a href='https://wandb.me/run' target=\"_blank\">docs</a>)<br/>"
            ],
            "text/plain": [
              "<IPython.core.display.HTML object>"
            ]
          },
          "metadata": {},
          "output_type": "display_data"
        },
        {
          "data": {
            "text/html": [
              " View project at <a href='https://wandb.ai/oops-moment-iiit-hyderabad/language_model' target=\"_blank\">https://wandb.ai/oops-moment-iiit-hyderabad/language_model</a>"
            ],
            "text/plain": [
              "<IPython.core.display.HTML object>"
            ]
          },
          "metadata": {},
          "output_type": "display_data"
        },
        {
          "data": {
            "text/html": [
              " View run at <a href='https://wandb.ai/oops-moment-iiit-hyderabad/language_model/runs/g51oby8b' target=\"_blank\">https://wandb.ai/oops-moment-iiit-hyderabad/language_model/runs/g51oby8b</a>"
            ],
            "text/plain": [
              "<IPython.core.display.HTML object>"
            ]
          },
          "metadata": {},
          "output_type": "display_data"
        },
        {
          "name": "stdout",
          "output_type": "stream",
          "text": [
            "Epoch [1/5], Train Loss: 6.2035, Val Loss: 5.6840\n",
            "Epoch [2/5], Train Loss: 5.8616, Val Loss: 5.5552\n",
            "Epoch [3/5], Train Loss: 5.7346, Val Loss: 5.5093\n",
            "Epoch [4/5], Train Loss: 5.6431, Val Loss: 5.4643\n",
            "Epoch [5/5], Train Loss: 5.5681, Val Loss: 5.4490\n"
          ]
        },
        {
          "name": "stderr",
          "output_type": "stream",
          "text": [
            "/tmp/ipykernel_36/1985312428.py:79: FutureWarning: You are using `torch.load` with `weights_only=False` (the current default value), which uses the default pickle module implicitly. It is possible to construct malicious pickle data which will execute arbitrary code during unpickling (See https://github.com/pytorch/pytorch/blob/main/SECURITY.md#untrusted-models for more details). In a future release, the default value for `weights_only` will be flipped to `True`. This limits the functions that could be executed during unpickling. Arbitrary objects will no longer be allowed to be loaded via this mode unless they are explicitly allowlisted by the user via `torch.serialization.add_safe_globals`. We recommend you start setting `weights_only=True` for any use case where you don't have full control of the loaded file. Please open an issue on GitHub for any issues related to this experimental feature.\n",
            "  model.load_state_dict(torch.load('best_model.pth'))\n"
          ]
        },
        {
          "name": "stdout",
          "output_type": "stream",
          "text": [
            "Testing optimizer: sgd\n"
          ]
        },
        {
          "data": {
            "text/html": [
              "Finishing last run (ID:g51oby8b) before initializing another..."
            ],
            "text/plain": [
              "<IPython.core.display.HTML object>"
            ]
          },
          "metadata": {},
          "output_type": "display_data"
        },
        {
          "data": {
            "application/vnd.jupyter.widget-view+json": {
              "model_id": "",
              "version_major": 2,
              "version_minor": 0
            },
            "text/plain": [
              "VBox(children=(Label(value='0.001 MB of 0.001 MB uploaded\\r'), FloatProgress(value=1.0, max=1.0)))"
            ]
          },
          "metadata": {},
          "output_type": "display_data"
        },
        {
          "data": {
            "text/html": [
              "<style>\n",
              "    table.wandb td:nth-child(1) { padding: 0 10px; text-align: left ; width: auto;} td:nth-child(2) {text-align: left ; width: 100%}\n",
              "    .wandb-row { display: flex; flex-direction: row; flex-wrap: wrap; justify-content: flex-start; width: 100% }\n",
              "    .wandb-col { display: flex; flex-direction: column; flex-basis: 100%; flex: 1; padding: 10px; }\n",
              "    </style>\n",
              "<div class=\"wandb-row\"><div class=\"wandb-col\"><h3>Run history:</h3><br/><table class=\"wandb\"><tr><td>best_val_loss</td><td>█▄▃▁▁</td></tr><tr><td>epoch</td><td>▁▃▅▆█</td></tr><tr><td>final_test_loss</td><td>▁</td></tr><tr><td>final_test_perplexity</td><td>▁</td></tr><tr><td>final_train_loss</td><td>▁</td></tr><tr><td>final_train_perplexity</td><td>▁</td></tr><tr><td>final_val_loss</td><td>▁</td></tr><tr><td>final_val_perplexity</td><td>▁</td></tr><tr><td>train_loss</td><td>█▄▃▂▁</td></tr><tr><td>val_loss</td><td>█▄▃▁▁</td></tr></table><br/></div><div class=\"wandb-col\"><h3>Run summary:</h3><br/><table class=\"wandb\"><tr><td>best_val_loss</td><td>5.449</td></tr><tr><td>epoch</td><td>5</td></tr><tr><td>final_test_loss</td><td>5.42775</td></tr><tr><td>final_test_perplexity</td><td>227.63727</td></tr><tr><td>final_train_loss</td><td>5.16367</td></tr><tr><td>final_train_perplexity</td><td>174.80557</td></tr><tr><td>final_val_loss</td><td>5.44898</td></tr><tr><td>final_val_perplexity</td><td>232.52074</td></tr><tr><td>train_loss</td><td>5.56811</td></tr><tr><td>val_loss</td><td>5.449</td></tr></table><br/></div></div>"
            ],
            "text/plain": [
              "<IPython.core.display.HTML object>"
            ]
          },
          "metadata": {},
          "output_type": "display_data"
        },
        {
          "data": {
            "text/html": [
              " View run <strong style=\"color:#cdcd00\">deft-silence-2</strong> at: <a href='https://wandb.ai/oops-moment-iiit-hyderabad/language_model/runs/g51oby8b' target=\"_blank\">https://wandb.ai/oops-moment-iiit-hyderabad/language_model/runs/g51oby8b</a><br/> View project at: <a href='https://wandb.ai/oops-moment-iiit-hyderabad/language_model' target=\"_blank\">https://wandb.ai/oops-moment-iiit-hyderabad/language_model</a><br/>Synced 5 W&B file(s), 0 media file(s), 0 artifact file(s) and 0 other file(s)"
            ],
            "text/plain": [
              "<IPython.core.display.HTML object>"
            ]
          },
          "metadata": {},
          "output_type": "display_data"
        },
        {
          "data": {
            "text/html": [
              "Find logs at: <code>./wandb/run-20240909_115654-g51oby8b/logs</code>"
            ],
            "text/plain": [
              "<IPython.core.display.HTML object>"
            ]
          },
          "metadata": {},
          "output_type": "display_data"
        },
        {
          "data": {
            "text/html": [
              "The new W&B backend becomes opt-out in version 0.18.0; try it out with `wandb.require(\"core\")`! See https://wandb.me/wandb-core for more information."
            ],
            "text/plain": [
              "<IPython.core.display.HTML object>"
            ]
          },
          "metadata": {},
          "output_type": "display_data"
        },
        {
          "data": {
            "text/html": [
              "Successfully finished last run (ID:g51oby8b). Initializing new run:<br/>"
            ],
            "text/plain": [
              "<IPython.core.display.HTML object>"
            ]
          },
          "metadata": {},
          "output_type": "display_data"
        },
        {
          "data": {
            "text/html": [
              "wandb version 0.17.9 is available!  To upgrade, please run:\n",
              " $ pip install wandb --upgrade"
            ],
            "text/plain": [
              "<IPython.core.display.HTML object>"
            ]
          },
          "metadata": {},
          "output_type": "display_data"
        },
        {
          "data": {
            "text/html": [
              "Tracking run with wandb version 0.17.7"
            ],
            "text/plain": [
              "<IPython.core.display.HTML object>"
            ]
          },
          "metadata": {},
          "output_type": "display_data"
        },
        {
          "data": {
            "text/html": [
              "Run data is saved locally in <code>/kaggle/working/wandb/run-20240909_122223-xagiw51h</code>"
            ],
            "text/plain": [
              "<IPython.core.display.HTML object>"
            ]
          },
          "metadata": {},
          "output_type": "display_data"
        },
        {
          "data": {
            "text/html": [
              "Syncing run <strong><a href='https://wandb.ai/oops-moment-iiit-hyderabad/language_model/runs/xagiw51h' target=\"_blank\">frosty-glade-3</a></strong> to <a href='https://wandb.ai/oops-moment-iiit-hyderabad/language_model' target=\"_blank\">Weights & Biases</a> (<a href='https://wandb.me/run' target=\"_blank\">docs</a>)<br/>"
            ],
            "text/plain": [
              "<IPython.core.display.HTML object>"
            ]
          },
          "metadata": {},
          "output_type": "display_data"
        },
        {
          "data": {
            "text/html": [
              " View project at <a href='https://wandb.ai/oops-moment-iiit-hyderabad/language_model' target=\"_blank\">https://wandb.ai/oops-moment-iiit-hyderabad/language_model</a>"
            ],
            "text/plain": [
              "<IPython.core.display.HTML object>"
            ]
          },
          "metadata": {},
          "output_type": "display_data"
        },
        {
          "data": {
            "text/html": [
              " View run at <a href='https://wandb.ai/oops-moment-iiit-hyderabad/language_model/runs/xagiw51h' target=\"_blank\">https://wandb.ai/oops-moment-iiit-hyderabad/language_model/runs/xagiw51h</a>"
            ],
            "text/plain": [
              "<IPython.core.display.HTML object>"
            ]
          },
          "metadata": {},
          "output_type": "display_data"
        },
        {
          "name": "stdout",
          "output_type": "stream",
          "text": [
            "Epoch [1/5], Train Loss: 6.1670, Val Loss: 5.6450\n",
            "Epoch [2/5], Train Loss: 5.7500, Val Loss: 5.4680\n",
            "Epoch [3/5], Train Loss: 5.6076, Val Loss: 5.3727\n",
            "Epoch [4/5], Train Loss: 5.5180, Val Loss: 5.2987\n",
            "Epoch [5/5], Train Loss: 5.4498, Val Loss: 5.2596\n"
          ]
        }
      ],
      "source": [
        "# Analyze optimizer first\n",
        "best_optimizer = None\n",
        "best_optimizer_perplexity = float('inf')\n",
        "optimizers = ['adam', 'sgd']\n",
        "optimizers_testppl=[]\n",
        "optimizers_valppl=[]\n",
        "for opt in optimizers:\n",
        "    print(f\"Testing optimizer: {opt}\")\n",
        "    _, val_ppl, test_ppl,train_loss,val_loss = train_and_evaluate(opt, d_hidden=300, dropout_rate=0.5)\n",
        "    optimizers_testppl.append(test_ppl)\n",
        "    optimizers_valppl.append(val_ppl)\n",
        "    if test_ppl < best_optimizer_perplexity:\n",
        "        best_optimizer = opt\n",
        "        best_optimizer_perplexity = test_ppl"
      ]
    },
    {
      "cell_type": "markdown",
      "metadata": {
        "id": "pj_4ETUigzO2"
      },
      "source": [
        "## Analysing Results Using the Outputs from WANDB FOR Optimizer Comparision .\n",
        "- [ADAM](https://wandb.ai/oops-moment-iiit-hyderabad/language_model/runs/g51oby8b/overview)\n",
        "- [SGD](https://wandb.ai/oops-moment-iiit-hyderabad/language_model/runs/xagiw51h/overview)"
      ]
    },
    {
      "cell_type": "code",
      "execution_count": 2,
      "metadata": {
        "colab": {
          "base_uri": "https://localhost:8080/",
          "height": 609
        },
        "id": "01U1ct78fvV3",
        "outputId": "733dc89e-c79d-492b-ed61-0ed3b3d1f5b5"
      },
      "outputs": [
        {
          "data": {
            "image/png": "[encoded data removed]",
            "text/plain": [
              "<Figure size 1000x600 with 2 Axes>"
            ]
          },
          "metadata": {},
          "output_type": "display_data"
        }
      ],
      "source": [
        "import matplotlib.pyplot as plt\n",
        "\n",
        "# Configuration details for the experiment\n",
        "config_details = {\n",
        "    'd_hidden': 300,\n",
        "    'dropout_rate': 0.5,\n",
        "    'epochs': 5,\n",
        "    'learning_rate': 0.01,\n",
        "    'n_gram_size': 5\n",
        "}\n",
        "\n",
        "# Data for losses and perplexity\n",
        "optimizers = ['Adam', 'SGD']\n",
        "test_losses = [5.427753512249956, 5.234631914839392]\n",
        "val_losses = [5.448979195550259, 5.2959303440855]\n",
        "test_perplexities = [227.63726806640625, 187.6600341796875]\n",
        "val_perplexities = [232.5207366943359, 192.40316772460935]\n",
        "\n",
        "# Plotting loss comparison\n",
        "plt.figure(figsize=(10, 6))\n",
        "\n",
        "# Test and Validation Loss\n",
        "plt.subplot(1, 2, 1)\n",
        "plt.bar(optimizers, test_losses, color='skyblue', label='Test Loss')\n",
        "plt.bar(optimizers, val_losses, color='lightgreen', label='Validation Loss', alpha=0.7)\n",
        "plt.xlabel('Optimizer')\n",
        "plt.ylabel('Loss')\n",
        "plt.title('Comparison of Losses (Test & Validation)')\n",
        "plt.legend()\n",
        "\n",
        "# Plotting perplexity comparison\n",
        "plt.subplot(1, 2, 2)\n",
        "plt.bar(optimizers, test_perplexities, color='coral', label='Test Perplexity')\n",
        "plt.bar(optimizers, val_perplexities, color='salmon', label='Validation Perplexity', alpha=0.7)\n",
        "plt.xlabel('Optimizer')\n",
        "plt.ylabel('Perplexity')\n",
        "plt.title('Comparison of Perplexities (Test & Validation)')\n",
        "plt.legend()\n",
        "\n",
        "# Overall title and configuration display\n",
        "plt.suptitle('Optimizer Comparison\\nConfiguration: d_hidden=300, dropout_rate=0.5, epochs=5, learning_rate=0.01, n_gram_size=5')\n",
        "\n",
        "plt.tight_layout(rect=[0, 0, 1, 0.95])\n",
        "plt.show()"
      ]
    },
    {
      "cell_type": "code",
      "execution_count": null,
      "metadata": {
        "colab": {
          "referenced_widgets": [
            ""
          ]
        },
        "execution": {
          "iopub.execute_input": "2024-09-09T16:58:06.650970Z",
          "iopub.status.busy": "2024-09-09T16:58:06.650174Z",
          "iopub.status.idle": "2024-09-09T18:10:10.799759Z",
          "shell.execute_reply": "2024-09-09T18:10:10.798757Z",
          "shell.execute_reply.started": "2024-09-09T16:58:06.650930Z"
        },
        "id": "NfjdYMlneJCH",
        "outputId": "bf8c40cd-0f0a-412b-8502-f015f643514e",
        "trusted": true
      },
      "outputs": [
        {
          "name": "stdout",
          "output_type": "stream",
          "text": [
            "Testing hidden size: 200\n"
          ]
        },
        {
          "data": {
            "text/html": [
              "Finishing last run (ID:hhbzih8o) before initializing another..."
            ],
            "text/plain": [
              "<IPython.core.display.HTML object>"
            ]
          },
          "metadata": {},
          "output_type": "display_data"
        },
        {
          "data": {
            "application/vnd.jupyter.widget-view+json": {
              "model_id": "",
              "version_major": 2,
              "version_minor": 0
            },
            "text/plain": [
              "VBox(children=(Label(value='0.001 MB of 0.001 MB uploaded\\r'), FloatProgress(value=1.0, max=1.0)))"
            ]
          },
          "metadata": {},
          "output_type": "display_data"
        },
        {
          "data": {
            "text/html": [
              "<style>\n",
              "    table.wandb td:nth-child(1) { padding: 0 10px; text-align: left ; width: auto;} td:nth-child(2) {text-align: left ; width: 100%}\n",
              "    .wandb-row { display: flex; flex-direction: row; flex-wrap: wrap; justify-content: flex-start; width: 100% }\n",
              "    .wandb-col { display: flex; flex-direction: column; flex-basis: 100%; flex: 1; padding: 10px; }\n",
              "    </style>\n",
              "<div class=\"wandb-row\"><div class=\"wandb-col\"><h3>Run history:</h3><br/><table class=\"wandb\"><tr><td>best_val_loss</td><td>█▅▃▂▁</td></tr><tr><td>epoch</td><td>▁▃▅▆█</td></tr><tr><td>train_loss</td><td>█▄▂▂▁</td></tr><tr><td>val_loss</td><td>█▅▃▂▁</td></tr></table><br/></div><div class=\"wandb-col\"><h3>Run summary:</h3><br/><table class=\"wandb\"><tr><td>best_val_loss</td><td>5.33071</td></tr><tr><td>epoch</td><td>5</td></tr><tr><td>train_loss</td><td>5.54622</td></tr><tr><td>val_loss</td><td>5.33071</td></tr></table><br/></div></div>"
            ],
            "text/plain": [
              "<IPython.core.display.HTML object>"
            ]
          },
          "metadata": {},
          "output_type": "display_data"
        },
        {
          "data": {
            "text/html": [
              " View run <strong style=\"color:#cdcd00\">clean-silence-12</strong> at: <a href='https://wandb.ai/oops-moment-iiit-hyderabad/language_model/runs/hhbzih8o' target=\"_blank\">https://wandb.ai/oops-moment-iiit-hyderabad/language_model/runs/hhbzih8o</a><br/> View project at: <a href='https://wandb.ai/oops-moment-iiit-hyderabad/language_model' target=\"_blank\">https://wandb.ai/oops-moment-iiit-hyderabad/language_model</a><br/>Synced 5 W&B file(s), 0 media file(s), 0 artifact file(s) and 0 other file(s)"
            ],
            "text/plain": [
              "<IPython.core.display.HTML object>"
            ]
          },
          "metadata": {},
          "output_type": "display_data"
        },
        {
          "data": {
            "text/html": [
              "Find logs at: <code>./wandb/run-20240909_163546-hhbzih8o/logs</code>"
            ],
            "text/plain": [
              "<IPython.core.display.HTML object>"
            ]
          },
          "metadata": {},
          "output_type": "display_data"
        },
        {
          "data": {
            "text/html": [
              "The new W&B backend becomes opt-out in version 0.18.0; try it out with `wandb.require(\"core\")`! See https://wandb.me/wandb-core for more information."
            ],
            "text/plain": [
              "<IPython.core.display.HTML object>"
            ]
          },
          "metadata": {},
          "output_type": "display_data"
        },
        {
          "data": {
            "text/html": [
              "Successfully finished last run (ID:hhbzih8o). Initializing new run:<br/>"
            ],
            "text/plain": [
              "<IPython.core.display.HTML object>"
            ]
          },
          "metadata": {},
          "output_type": "display_data"
        },
        {
          "data": {
            "text/html": [
              "wandb version 0.17.9 is available!  To upgrade, please run:\n",
              " $ pip install wandb --upgrade"
            ],
            "text/plain": [
              "<IPython.core.display.HTML object>"
            ]
          },
          "metadata": {},
          "output_type": "display_data"
        },
        {
          "data": {
            "text/html": [
              "Tracking run with wandb version 0.17.7"
            ],
            "text/plain": [
              "<IPython.core.display.HTML object>"
            ]
          },
          "metadata": {},
          "output_type": "display_data"
        },
        {
          "data": {
            "text/html": [
              "Run data is saved locally in <code>/kaggle/working/wandb/run-20240909_165807-j9fhwx5u</code>"
            ],
            "text/plain": [
              "<IPython.core.display.HTML object>"
            ]
          },
          "metadata": {},
          "output_type": "display_data"
        },
        {
          "data": {
            "text/html": [
              "Syncing run <strong><a href='https://wandb.ai/oops-moment-iiit-hyderabad/language_model/runs/j9fhwx5u' target=\"_blank\">true-vortex-13</a></strong> to <a href='https://wandb.ai/oops-moment-iiit-hyderabad/language_model' target=\"_blank\">Weights & Biases</a> (<a href='https://wandb.me/run' target=\"_blank\">docs</a>)<br/>"
            ],
            "text/plain": [
              "<IPython.core.display.HTML object>"
            ]
          },
          "metadata": {},
          "output_type": "display_data"
        },
        {
          "data": {
            "text/html": [
              " View project at <a href='https://wandb.ai/oops-moment-iiit-hyderabad/language_model' target=\"_blank\">https://wandb.ai/oops-moment-iiit-hyderabad/language_model</a>"
            ],
            "text/plain": [
              "<IPython.core.display.HTML object>"
            ]
          },
          "metadata": {},
          "output_type": "display_data"
        },
        {
          "data": {
            "text/html": [
              " View run at <a href='https://wandb.ai/oops-moment-iiit-hyderabad/language_model/runs/j9fhwx5u' target=\"_blank\">https://wandb.ai/oops-moment-iiit-hyderabad/language_model/runs/j9fhwx5u</a>"
            ],
            "text/plain": [
              "<IPython.core.display.HTML object>"
            ]
          },
          "metadata": {},
          "output_type": "display_data"
        },
        {
          "name": "stdout",
          "output_type": "stream",
          "text": [
            "Epoch [1/5], Train Loss: 6.2511, Val Loss: 5.7062\n",
            "Epoch [2/5], Train Loss: 5.8287, Val Loss: 5.5345\n",
            "Epoch [3/5], Train Loss: 5.6926, Val Loss: 5.4356\n",
            "Epoch [4/5], Train Loss: 5.6076, Val Loss: 5.3746\n",
            "Epoch [5/5], Train Loss: 5.5450, Val Loss: 5.3266\n"
          ]
        },
        {
          "name": "stderr",
          "output_type": "stream",
          "text": [
            "/tmp/ipykernel_37/1985312428.py:79: FutureWarning: You are using `torch.load` with `weights_only=False` (the current default value), which uses the default pickle module implicitly. It is possible to construct malicious pickle data which will execute arbitrary code during unpickling (See https://github.com/pytorch/pytorch/blob/main/SECURITY.md#untrusted-models for more details). In a future release, the default value for `weights_only` will be flipped to `True`. This limits the functions that could be executed during unpickling. Arbitrary objects will no longer be allowed to be loaded via this mode unless they are explicitly allowlisted by the user via `torch.serialization.add_safe_globals`. We recommend you start setting `weights_only=True` for any use case where you don't have full control of the loaded file. Please open an issue on GitHub for any issues related to this experimental feature.\n",
            "  model.load_state_dict(torch.load('best_model.pth'))\n"
          ]
        },
        {
          "name": "stdout",
          "output_type": "stream",
          "text": [
            "Testing hidden size: 300\n"
          ]
        },
        {
          "data": {
            "text/html": [
              "Finishing last run (ID:j9fhwx5u) before initializing another..."
            ],
            "text/plain": [
              "<IPython.core.display.HTML object>"
            ]
          },
          "metadata": {},
          "output_type": "display_data"
        },
        {
          "data": {
            "application/vnd.jupyter.widget-view+json": {
              "model_id": "",
              "version_major": 2,
              "version_minor": 0
            },
            "text/plain": [
              "VBox(children=(Label(value='0.001 MB of 0.001 MB uploaded\\r'), FloatProgress(value=1.0, max=1.0)))"
            ]
          },
          "metadata": {},
          "output_type": "display_data"
        },
        {
          "data": {
            "text/html": [
              "<style>\n",
              "    table.wandb td:nth-child(1) { padding: 0 10px; text-align: left ; width: auto;} td:nth-child(2) {text-align: left ; width: 100%}\n",
              "    .wandb-row { display: flex; flex-direction: row; flex-wrap: wrap; justify-content: flex-start; width: 100% }\n",
              "    .wandb-col { display: flex; flex-direction: column; flex-basis: 100%; flex: 1; padding: 10px; }\n",
              "    </style>\n",
              "<div class=\"wandb-row\"><div class=\"wandb-col\"><h3>Run history:</h3><br/><table class=\"wandb\"><tr><td>best_val_loss</td><td>█▅▃▂▁</td></tr><tr><td>epoch</td><td>▁▃▅▆█</td></tr><tr><td>final_test_loss</td><td>▁</td></tr><tr><td>final_test_perplexity</td><td>▁</td></tr><tr><td>final_train_loss</td><td>▁</td></tr><tr><td>final_train_perplexity</td><td>▁</td></tr><tr><td>final_val_loss</td><td>▁</td></tr><tr><td>final_val_perplexity</td><td>▁</td></tr><tr><td>train_loss</td><td>█▄▂▂▁</td></tr><tr><td>val_loss</td><td>█▅▃▂▁</td></tr></table><br/></div><div class=\"wandb-col\"><h3>Run summary:</h3><br/><table class=\"wandb\"><tr><td>best_val_loss</td><td>5.32661</td></tr><tr><td>epoch</td><td>5</td></tr><tr><td>final_test_loss</td><td>5.32376</td></tr><tr><td>final_test_perplexity</td><td>205.15451</td></tr><tr><td>final_train_loss</td><td>5.27604</td></tr><tr><td>final_train_perplexity</td><td>195.59436</td></tr><tr><td>final_val_loss</td><td>5.32715</td></tr><tr><td>final_val_perplexity</td><td>205.84995</td></tr><tr><td>train_loss</td><td>5.54501</td></tr><tr><td>val_loss</td><td>5.32661</td></tr></table><br/></div></div>"
            ],
            "text/plain": [
              "<IPython.core.display.HTML object>"
            ]
          },
          "metadata": {},
          "output_type": "display_data"
        },
        {
          "data": {
            "text/html": [
              " View run <strong style=\"color:#cdcd00\">true-vortex-13</strong> at: <a href='https://wandb.ai/oops-moment-iiit-hyderabad/language_model/runs/j9fhwx5u' target=\"_blank\">https://wandb.ai/oops-moment-iiit-hyderabad/language_model/runs/j9fhwx5u</a><br/> View project at: <a href='https://wandb.ai/oops-moment-iiit-hyderabad/language_model' target=\"_blank\">https://wandb.ai/oops-moment-iiit-hyderabad/language_model</a><br/>Synced 5 W&B file(s), 0 media file(s), 0 artifact file(s) and 0 other file(s)"
            ],
            "text/plain": [
              "<IPython.core.display.HTML object>"
            ]
          },
          "metadata": {},
          "output_type": "display_data"
        },
        {
          "data": {
            "text/html": [
              "Find logs at: <code>./wandb/run-20240909_165807-j9fhwx5u/logs</code>"
            ],
            "text/plain": [
              "<IPython.core.display.HTML object>"
            ]
          },
          "metadata": {},
          "output_type": "display_data"
        },
        {
          "data": {
            "text/html": [
              "The new W&B backend becomes opt-out in version 0.18.0; try it out with `wandb.require(\"core\")`! See https://wandb.me/wandb-core for more information."
            ],
            "text/plain": [
              "<IPython.core.display.HTML object>"
            ]
          },
          "metadata": {},
          "output_type": "display_data"
        },
        {
          "data": {
            "text/html": [
              "Successfully finished last run (ID:j9fhwx5u). Initializing new run:<br/>"
            ],
            "text/plain": [
              "<IPython.core.display.HTML object>"
            ]
          },
          "metadata": {},
          "output_type": "display_data"
        },
        {
          "data": {
            "text/html": [
              "wandb version 0.17.9 is available!  To upgrade, please run:\n",
              " $ pip install wandb --upgrade"
            ],
            "text/plain": [
              "<IPython.core.display.HTML object>"
            ]
          },
          "metadata": {},
          "output_type": "display_data"
        },
        {
          "data": {
            "text/html": [
              "Tracking run with wandb version 0.17.7"
            ],
            "text/plain": [
              "<IPython.core.display.HTML object>"
            ]
          },
          "metadata": {},
          "output_type": "display_data"
        },
        {
          "data": {
            "text/html": [
              "Run data is saved locally in <code>/kaggle/working/wandb/run-20240909_171807-29gaxfur</code>"
            ],
            "text/plain": [
              "<IPython.core.display.HTML object>"
            ]
          },
          "metadata": {},
          "output_type": "display_data"
        },
        {
          "data": {
            "text/html": [
              "Syncing run <strong><a href='https://wandb.ai/oops-moment-iiit-hyderabad/language_model/runs/29gaxfur' target=\"_blank\">kind-dawn-14</a></strong> to <a href='https://wandb.ai/oops-moment-iiit-hyderabad/language_model' target=\"_blank\">Weights & Biases</a> (<a href='https://wandb.me/run' target=\"_blank\">docs</a>)<br/>"
            ],
            "text/plain": [
              "<IPython.core.display.HTML object>"
            ]
          },
          "metadata": {},
          "output_type": "display_data"
        },
        {
          "data": {
            "text/html": [
              " View project at <a href='https://wandb.ai/oops-moment-iiit-hyderabad/language_model' target=\"_blank\">https://wandb.ai/oops-moment-iiit-hyderabad/language_model</a>"
            ],
            "text/plain": [
              "<IPython.core.display.HTML object>"
            ]
          },
          "metadata": {},
          "output_type": "display_data"
        },
        {
          "data": {
            "text/html": [
              " View run at <a href='https://wandb.ai/oops-moment-iiit-hyderabad/language_model/runs/29gaxfur' target=\"_blank\">https://wandb.ai/oops-moment-iiit-hyderabad/language_model/runs/29gaxfur</a>"
            ],
            "text/plain": [
              "<IPython.core.display.HTML object>"
            ]
          },
          "metadata": {},
          "output_type": "display_data"
        },
        {
          "name": "stdout",
          "output_type": "stream",
          "text": [
            "Epoch [1/5], Train Loss: 6.1646, Val Loss: 5.6314\n",
            "Epoch [2/5], Train Loss: 5.7429, Val Loss: 5.4599\n",
            "Epoch [3/5], Train Loss: 5.6016, Val Loss: 5.3684\n",
            "Epoch [4/5], Train Loss: 5.5104, Val Loss: 5.3012\n",
            "Epoch [5/5], Train Loss: 5.4425, Val Loss: 5.2639\n",
            "Testing hidden size: 400\n"
          ]
        },
        {
          "data": {
            "text/html": [
              "Finishing last run (ID:29gaxfur) before initializing another..."
            ],
            "text/plain": [
              "<IPython.core.display.HTML object>"
            ]
          },
          "metadata": {},
          "output_type": "display_data"
        },
        {
          "data": {
            "application/vnd.jupyter.widget-view+json": {
              "model_id": "",
              "version_major": 2,
              "version_minor": 0
            },
            "text/plain": [
              "VBox(children=(Label(value='0.001 MB of 0.001 MB uploaded\\r'), FloatProgress(value=1.0, max=1.0)))"
            ]
          },
          "metadata": {},
          "output_type": "display_data"
        },
        {
          "data": {
            "text/html": [
              "<style>\n",
              "    table.wandb td:nth-child(1) { padding: 0 10px; text-align: left ; width: auto;} td:nth-child(2) {text-align: left ; width: 100%}\n",
              "    .wandb-row { display: flex; flex-direction: row; flex-wrap: wrap; justify-content: flex-start; width: 100% }\n",
              "    .wandb-col { display: flex; flex-direction: column; flex-basis: 100%; flex: 1; padding: 10px; }\n",
              "    </style>\n",
              "<div class=\"wandb-row\"><div class=\"wandb-col\"><h3>Run history:</h3><br/><table class=\"wandb\"><tr><td>best_val_loss</td><td>█▅▃▂▁</td></tr><tr><td>epoch</td><td>▁▃▅▆█</td></tr><tr><td>final_test_loss</td><td>▁</td></tr><tr><td>final_test_perplexity</td><td>▁</td></tr><tr><td>final_train_loss</td><td>▁</td></tr><tr><td>final_train_perplexity</td><td>▁</td></tr><tr><td>final_val_loss</td><td>▁</td></tr><tr><td>final_val_perplexity</td><td>▁</td></tr><tr><td>train_loss</td><td>█▄▃▂▁</td></tr><tr><td>val_loss</td><td>█▅▃▂▁</td></tr></table><br/></div><div class=\"wandb-col\"><h3>Run summary:</h3><br/><table class=\"wandb\"><tr><td>best_val_loss</td><td>5.26392</td></tr><tr><td>epoch</td><td>5</td></tr><tr><td>final_test_loss</td><td>5.2608</td></tr><tr><td>final_test_perplexity</td><td>192.63524</td></tr><tr><td>final_train_loss</td><td>5.17774</td></tr><tr><td>final_train_perplexity</td><td>177.28146</td></tr><tr><td>final_val_loss</td><td>5.26453</td></tr><tr><td>final_val_perplexity</td><td>193.35507</td></tr><tr><td>train_loss</td><td>5.44248</td></tr><tr><td>val_loss</td><td>5.26392</td></tr></table><br/></div></div>"
            ],
            "text/plain": [
              "<IPython.core.display.HTML object>"
            ]
          },
          "metadata": {},
          "output_type": "display_data"
        },
        {
          "data": {
            "text/html": [
              " View run <strong style=\"color:#cdcd00\">kind-dawn-14</strong> at: <a href='https://wandb.ai/oops-moment-iiit-hyderabad/language_model/runs/29gaxfur' target=\"_blank\">https://wandb.ai/oops-moment-iiit-hyderabad/language_model/runs/29gaxfur</a><br/> View project at: <a href='https://wandb.ai/oops-moment-iiit-hyderabad/language_model' target=\"_blank\">https://wandb.ai/oops-moment-iiit-hyderabad/language_model</a><br/>Synced 5 W&B file(s), 0 media file(s), 0 artifact file(s) and 0 other file(s)"
            ],
            "text/plain": [
              "<IPython.core.display.HTML object>"
            ]
          },
          "metadata": {},
          "output_type": "display_data"
        },
        {
          "data": {
            "text/html": [
              "Find logs at: <code>./wandb/run-20240909_171807-29gaxfur/logs</code>"
            ],
            "text/plain": [
              "<IPython.core.display.HTML object>"
            ]
          },
          "metadata": {},
          "output_type": "display_data"
        },
        {
          "data": {
            "text/html": [
              "The new W&B backend becomes opt-out in version 0.18.0; try it out with `wandb.require(\"core\")`! See https://wandb.me/wandb-core for more information."
            ],
            "text/plain": [
              "<IPython.core.display.HTML object>"
            ]
          },
          "metadata": {},
          "output_type": "display_data"
        },
        {
          "data": {
            "text/html": [
              "Successfully finished last run (ID:29gaxfur). Initializing new run:<br/>"
            ],
            "text/plain": [
              "<IPython.core.display.HTML object>"
            ]
          },
          "metadata": {},
          "output_type": "display_data"
        },
        {
          "data": {
            "text/html": [
              "wandb version 0.17.9 is available!  To upgrade, please run:\n",
              " $ pip install wandb --upgrade"
            ],
            "text/plain": [
              "<IPython.core.display.HTML object>"
            ]
          },
          "metadata": {},
          "output_type": "display_data"
        },
        {
          "data": {
            "text/html": [
              "Tracking run with wandb version 0.17.7"
            ],
            "text/plain": [
              "<IPython.core.display.HTML object>"
            ]
          },
          "metadata": {},
          "output_type": "display_data"
        },
        {
          "data": {
            "text/html": [
              "Run data is saved locally in <code>/kaggle/working/wandb/run-20240909_174158-jg0xsci5</code>"
            ],
            "text/plain": [
              "<IPython.core.display.HTML object>"
            ]
          },
          "metadata": {},
          "output_type": "display_data"
        },
        {
          "data": {
            "text/html": [
              "Syncing run <strong><a href='https://wandb.ai/oops-moment-iiit-hyderabad/language_model/runs/jg0xsci5' target=\"_blank\">logical-jazz-15</a></strong> to <a href='https://wandb.ai/oops-moment-iiit-hyderabad/language_model' target=\"_blank\">Weights & Biases</a> (<a href='https://wandb.me/run' target=\"_blank\">docs</a>)<br/>"
            ],
            "text/plain": [
              "<IPython.core.display.HTML object>"
            ]
          },
          "metadata": {},
          "output_type": "display_data"
        },
        {
          "data": {
            "text/html": [
              " View project at <a href='https://wandb.ai/oops-moment-iiit-hyderabad/language_model' target=\"_blank\">https://wandb.ai/oops-moment-iiit-hyderabad/language_model</a>"
            ],
            "text/plain": [
              "<IPython.core.display.HTML object>"
            ]
          },
          "metadata": {},
          "output_type": "display_data"
        },
        {
          "data": {
            "text/html": [
              " View run at <a href='https://wandb.ai/oops-moment-iiit-hyderabad/language_model/runs/jg0xsci5' target=\"_blank\">https://wandb.ai/oops-moment-iiit-hyderabad/language_model/runs/jg0xsci5</a>"
            ],
            "text/plain": [
              "<IPython.core.display.HTML object>"
            ]
          },
          "metadata": {},
          "output_type": "display_data"
        },
        {
          "name": "stdout",
          "output_type": "stream",
          "text": [
            "Epoch [1/5], Train Loss: 6.1173, Val Loss: 5.5929\n",
            "Epoch [2/5], Train Loss: 5.6949, Val Loss: 5.4204\n",
            "Epoch [3/5], Train Loss: 5.5478, Val Loss: 5.3190\n",
            "Epoch [4/5], Train Loss: 5.4528, Val Loss: 5.2584\n",
            "Epoch [5/5], Train Loss: 5.3796, Val Loss: 5.2110\n"
          ]
        }
      ],
      "source": [
        "# Analyze hidden size next\n",
        "best_hidden_size = None\n",
        "best_hidden_size_perplexity = float('inf')\n",
        "hidden_sizes = [200, 300, 400]\n",
        "hidden_ppl=[]\n",
        "hidden_val=[AssertionError]\n",
        "for hidden_size in hidden_sizes:\n",
        "    print(f\"Testing hidden size: {hidden_size}\")\n",
        "    _, val_ppl, test_ppl,train_loss,val_loss = train_and_evaluate(best_optimizer, d_hidden=hidden_size, dropout_rate=0.5)\n",
        "    hidden_ppl.append(test_ppl)\n",
        "    hidden_val.append(val_ppl)\n",
        "    if val_ppl < best_hidden_size_perplexity:\n",
        "        best_hidden_size = hidden_size\n",
        "        best_hidden_size_perplexity = test_ppl\n",
        "\n"
      ]
    },
    {
      "cell_type": "markdown",
      "metadata": {
        "id": "RPxUWrLwi-w6"
      },
      "source": [
        "## Analysing Results Using the Outputs from WANDB FOR Hidden Dimension Comparision .\n",
        "- [Dimension 200](https://wandb.ai/oops-moment-iiit-hyderabad/language_model/runs/j9fhwx5u?nw=nwuseroopsmoment)\n",
        "- [Dimension 300](https://wandb.ai/oops-moment-iiit-hyderabad/language_model/runs/29gaxfur?nw=nwuseroopsmoment)\n",
        "- [Dimension 400](https://wandb.ai/oops-moment-iiit-hyderabad/language_model/runs/jg0xsci5?nw=nwuseroopsmoment)"
      ]
    },
    {
      "cell_type": "code",
      "execution_count": 3,
      "metadata": {
        "colab": {
          "base_uri": "https://localhost:8080/",
          "height": 609
        },
        "id": "7OkzIpIPnoJh",
        "outputId": "33df6651-3d06-4394-fcd2-ccae0c01df46"
      },
      "outputs": [
        {
          "data": {
            "image/png": "[encoded data removed]",
            "text/plain": [
              "<Figure size 1000x600 with 2 Axes>"
            ]
          },
          "metadata": {},
          "output_type": "display_data"
        }
      ],
      "source": [
        "# Configuration details for the experiment\n",
        "config_details_dim = {\n",
        "    'dropout_rate': 0.5,\n",
        "    'epochs': 5,\n",
        "    'learning_rate': 0.01,\n",
        "    'n_gram_size': 5,\n",
        "    'optimizer': 'SGD'\n",
        "}\n",
        "\n",
        "# Data for losses and perplexity based on hidden layer size\n",
        "hidden_layer_sizes = ['200', '300', '400']\n",
        "test_losses_dim = [5.323763157524252, 5.260798630319545, 5.209553451864311]\n",
        "val_losses_dim = [5.327147275687822, 5.264528484967799, 5.211575315936718]\n",
        "test_perplexities_dim = [205.15451049804688, 192.63523864746097, 183.0122833251953]\n",
        "val_perplexities_dim = [205.84994506835935, 193.3550720214844, 183.38275146484375]\n",
        "\n",
        "# Plotting loss comparison\n",
        "plt.figure(figsize=(10, 6))\n",
        "\n",
        "# Test and Validation Loss for different hidden layer sizes\n",
        "plt.subplot(1, 2, 1)\n",
        "plt.bar(hidden_layer_sizes, test_losses_dim, color='skyblue', label='Test Loss')\n",
        "plt.bar(hidden_layer_sizes, val_losses_dim, color='lightgreen', label='Validation Loss', alpha=0.7)\n",
        "plt.xlabel('Hidden Layer Size')\n",
        "plt.ylabel('Loss')\n",
        "plt.title('Comparison of Losses (Test & Validation)')\n",
        "plt.legend()\n",
        "\n",
        "# Plotting perplexity comparison\n",
        "plt.subplot(1, 2, 2)\n",
        "plt.bar(hidden_layer_sizes, test_perplexities_dim, color='coral', label='Test Perplexity')\n",
        "plt.bar(hidden_layer_sizes, val_perplexities_dim, color='salmon', label='Validation Perplexity', alpha=0.7)\n",
        "plt.xlabel('Hidden Layer Size')\n",
        "plt.ylabel('Perplexity')\n",
        "plt.title('Comparison of Perplexities (Test & Validation)')\n",
        "plt.legend()\n",
        "\n",
        "# Overall title and configuration display\n",
        "plt.suptitle('Hidden Layer Comparison\\nConfiguration: dropout_rate=0.5, epochs=5, learning_rate=0.01, n_gram_size=5, optimizer=SGD')\n",
        "\n",
        "plt.tight_layout(rect=[0, 0, 1, 0.95])\n",
        "plt.show()"
      ]
    },
    {
      "cell_type": "markdown",
      "metadata": {
        "id": "XBkT24IDoT-q"
      },
      "source": [
        "## Analysing Results Using the Outputs from WANDB FOR Dropout Comparision .\n",
        "- [Dropout : 0.3](https://wandb.ai/oops-moment-iiit-hyderabad/language_model/runs/841gm3jc?nw=nwuseroopsmoment)\n",
        "\n",
        "- [Dropout : 0.5 ](https://wandb.ai/oops-moment-iiit-hyderabad/language_model/runs/j61cwf3q)\n",
        "- [Dropout : 0.7 ](https://wandb.ai/oops-moment-iiit-hyderabad/language_model/runs/t9pfrrfc)"
      ]
    },
    {
      "cell_type": "code",
      "execution_count": null,
      "metadata": {
        "colab": {
          "referenced_widgets": [
            "",
            "f2de0c3ea8c54461970a8c3215902cb6"
          ]
        },
        "execution": {
          "iopub.execute_input": "2024-09-09T18:10:10.809152Z",
          "iopub.status.busy": "2024-09-09T18:10:10.808866Z",
          "iopub.status.idle": "2024-09-09T19:38:19.007184Z",
          "shell.execute_reply": "2024-09-09T19:38:19.006234Z",
          "shell.execute_reply.started": "2024-09-09T18:10:10.809120Z"
        },
        "id": "7_Z-eonvVL_x",
        "outputId": "e1352268-268a-4440-97cf-39cf5a6c115f",
        "trusted": true
      },
      "outputs": [
        {
          "name": "stdout",
          "output_type": "stream",
          "text": [
            "Testing dropout rate: 0.3\n"
          ]
        },
        {
          "data": {
            "text/html": [
              "Finishing last run (ID:jg0xsci5) before initializing another..."
            ],
            "text/plain": [
              "<IPython.core.display.HTML object>"
            ]
          },
          "metadata": {},
          "output_type": "display_data"
        },
        {
          "data": {
            "application/vnd.jupyter.widget-view+json": {
              "model_id": "",
              "version_major": 2,
              "version_minor": 0
            },
            "text/plain": [
              "VBox(children=(Label(value='0.001 MB of 0.001 MB uploaded\\r'), FloatProgress(value=1.0, max=1.0)))"
            ]
          },
          "metadata": {},
          "output_type": "display_data"
        },
        {
          "data": {
            "text/html": [
              "<style>\n",
              "    table.wandb td:nth-child(1) { padding: 0 10px; text-align: left ; width: auto;} td:nth-child(2) {text-align: left ; width: 100%}\n",
              "    .wandb-row { display: flex; flex-direction: row; flex-wrap: wrap; justify-content: flex-start; width: 100% }\n",
              "    .wandb-col { display: flex; flex-direction: column; flex-basis: 100%; flex: 1; padding: 10px; }\n",
              "    </style>\n",
              "<div class=\"wandb-row\"><div class=\"wandb-col\"><h3>Run history:</h3><br/><table class=\"wandb\"><tr><td>best_val_loss</td><td>█▅▃▂▁</td></tr><tr><td>epoch</td><td>▁▃▅▆█</td></tr><tr><td>final_test_loss</td><td>▁</td></tr><tr><td>final_test_perplexity</td><td>▁</td></tr><tr><td>final_train_loss</td><td>▁</td></tr><tr><td>final_train_perplexity</td><td>▁</td></tr><tr><td>final_val_loss</td><td>▁</td></tr><tr><td>final_val_perplexity</td><td>▁</td></tr><tr><td>train_loss</td><td>█▄▃▂▁</td></tr><tr><td>val_loss</td><td>█▅▃▂▁</td></tr></table><br/></div><div class=\"wandb-col\"><h3>Run summary:</h3><br/><table class=\"wandb\"><tr><td>best_val_loss</td><td>5.21101</td></tr><tr><td>epoch</td><td>5</td></tr><tr><td>final_test_loss</td><td>5.20955</td></tr><tr><td>final_test_perplexity</td><td>183.01228</td></tr><tr><td>final_train_loss</td><td>5.09932</td></tr><tr><td>final_train_perplexity</td><td>163.91032</td></tr><tr><td>final_val_loss</td><td>5.21158</td></tr><tr><td>final_val_perplexity</td><td>183.38275</td></tr><tr><td>train_loss</td><td>5.37956</td></tr><tr><td>val_loss</td><td>5.21101</td></tr></table><br/></div></div>"
            ],
            "text/plain": [
              "<IPython.core.display.HTML object>"
            ]
          },
          "metadata": {},
          "output_type": "display_data"
        },
        {
          "data": {
            "text/html": [
              " View run <strong style=\"color:#cdcd00\">logical-jazz-15</strong> at: <a href='https://wandb.ai/oops-moment-iiit-hyderabad/language_model/runs/jg0xsci5' target=\"_blank\">https://wandb.ai/oops-moment-iiit-hyderabad/language_model/runs/jg0xsci5</a><br/> View project at: <a href='https://wandb.ai/oops-moment-iiit-hyderabad/language_model' target=\"_blank\">https://wandb.ai/oops-moment-iiit-hyderabad/language_model</a><br/>Synced 5 W&B file(s), 0 media file(s), 0 artifact file(s) and 0 other file(s)"
            ],
            "text/plain": [
              "<IPython.core.display.HTML object>"
            ]
          },
          "metadata": {},
          "output_type": "display_data"
        },
        {
          "data": {
            "text/html": [
              "Find logs at: <code>./wandb/run-20240909_174158-jg0xsci5/logs</code>"
            ],
            "text/plain": [
              "<IPython.core.display.HTML object>"
            ]
          },
          "metadata": {},
          "output_type": "display_data"
        },
        {
          "data": {
            "text/html": [
              "The new W&B backend becomes opt-out in version 0.18.0; try it out with `wandb.require(\"core\")`! See https://wandb.me/wandb-core for more information."
            ],
            "text/plain": [
              "<IPython.core.display.HTML object>"
            ]
          },
          "metadata": {},
          "output_type": "display_data"
        },
        {
          "data": {
            "text/html": [
              "Successfully finished last run (ID:jg0xsci5). Initializing new run:<br/>"
            ],
            "text/plain": [
              "<IPython.core.display.HTML object>"
            ]
          },
          "metadata": {},
          "output_type": "display_data"
        },
        {
          "data": {
            "text/html": [
              "wandb version 0.17.9 is available!  To upgrade, please run:\n",
              " $ pip install wandb --upgrade"
            ],
            "text/plain": [
              "<IPython.core.display.HTML object>"
            ]
          },
          "metadata": {},
          "output_type": "display_data"
        },
        {
          "data": {
            "text/html": [
              "Tracking run with wandb version 0.17.7"
            ],
            "text/plain": [
              "<IPython.core.display.HTML object>"
            ]
          },
          "metadata": {},
          "output_type": "display_data"
        },
        {
          "data": {
            "text/html": [
              "Run data is saved locally in <code>/kaggle/working/wandb/run-20240909_181011-841gm3jc</code>"
            ],
            "text/plain": [
              "<IPython.core.display.HTML object>"
            ]
          },
          "metadata": {},
          "output_type": "display_data"
        },
        {
          "data": {
            "text/html": [
              "Syncing run <strong><a href='https://wandb.ai/oops-moment-iiit-hyderabad/language_model/runs/841gm3jc' target=\"_blank\">revived-monkey-16</a></strong> to <a href='https://wandb.ai/oops-moment-iiit-hyderabad/language_model' target=\"_blank\">Weights & Biases</a> (<a href='https://wandb.me/run' target=\"_blank\">docs</a>)<br/>"
            ],
            "text/plain": [
              "<IPython.core.display.HTML object>"
            ]
          },
          "metadata": {},
          "output_type": "display_data"
        },
        {
          "data": {
            "text/html": [
              " View project at <a href='https://wandb.ai/oops-moment-iiit-hyderabad/language_model' target=\"_blank\">https://wandb.ai/oops-moment-iiit-hyderabad/language_model</a>"
            ],
            "text/plain": [
              "<IPython.core.display.HTML object>"
            ]
          },
          "metadata": {},
          "output_type": "display_data"
        },
        {
          "data": {
            "text/html": [
              " View run at <a href='https://wandb.ai/oops-moment-iiit-hyderabad/language_model/runs/841gm3jc' target=\"_blank\">https://wandb.ai/oops-moment-iiit-hyderabad/language_model/runs/841gm3jc</a>"
            ],
            "text/plain": [
              "<IPython.core.display.HTML object>"
            ]
          },
          "metadata": {},
          "output_type": "display_data"
        },
        {
          "name": "stdout",
          "output_type": "stream",
          "text": [
            "Epoch [1/5], Train Loss: 5.9485, Val Loss: 5.4748\n",
            "Epoch [2/5], Train Loss: 5.5019, Val Loss: 5.3034\n",
            "Epoch [3/5], Train Loss: 5.3333, Val Loss: 5.2064\n",
            "Epoch [4/5], Train Loss: 5.2156, Val Loss: 5.1505\n",
            "Epoch [5/5], Train Loss: 5.1235, Val Loss: 5.1132\n"
          ]
        },
        {
          "name": "stderr",
          "output_type": "stream",
          "text": [
            "/tmp/ipykernel_37/1985312428.py:79: FutureWarning: You are using `torch.load` with `weights_only=False` (the current default value), which uses the default pickle module implicitly. It is possible to construct malicious pickle data which will execute arbitrary code during unpickling (See https://github.com/pytorch/pytorch/blob/main/SECURITY.md#untrusted-models for more details). In a future release, the default value for `weights_only` will be flipped to `True`. This limits the functions that could be executed during unpickling. Arbitrary objects will no longer be allowed to be loaded via this mode unless they are explicitly allowlisted by the user via `torch.serialization.add_safe_globals`. We recommend you start setting `weights_only=True` for any use case where you don't have full control of the loaded file. Please open an issue on GitHub for any issues related to this experimental feature.\n",
            "  model.load_state_dict(torch.load('best_model.pth'))\n"
          ]
        },
        {
          "name": "stdout",
          "output_type": "stream",
          "text": [
            "Testing dropout rate: 0.5\n"
          ]
        },
        {
          "data": {
            "text/html": [
              "Finishing last run (ID:841gm3jc) before initializing another..."
            ],
            "text/plain": [
              "<IPython.core.display.HTML object>"
            ]
          },
          "metadata": {},
          "output_type": "display_data"
        },
        {
          "data": {
            "application/vnd.jupyter.widget-view+json": {
              "model_id": "",
              "version_major": 2,
              "version_minor": 0
            },
            "text/plain": [
              "VBox(children=(Label(value='0.001 MB of 0.001 MB uploaded\\r'), FloatProgress(value=1.0, max=1.0)))"
            ]
          },
          "metadata": {},
          "output_type": "display_data"
        },
        {
          "data": {
            "text/html": [
              "<style>\n",
              "    table.wandb td:nth-child(1) { padding: 0 10px; text-align: left ; width: auto;} td:nth-child(2) {text-align: left ; width: 100%}\n",
              "    .wandb-row { display: flex; flex-direction: row; flex-wrap: wrap; justify-content: flex-start; width: 100% }\n",
              "    .wandb-col { display: flex; flex-direction: column; flex-basis: 100%; flex: 1; padding: 10px; }\n",
              "    </style>\n",
              "<div class=\"wandb-row\"><div class=\"wandb-col\"><h3>Run history:</h3><br/><table class=\"wandb\"><tr><td>best_val_loss</td><td>█▅▃▂▁</td></tr><tr><td>epoch</td><td>▁▃▅▆█</td></tr><tr><td>final_test_loss</td><td>▁</td></tr><tr><td>final_test_perplexity</td><td>▁</td></tr><tr><td>final_train_loss</td><td>▁</td></tr><tr><td>final_train_perplexity</td><td>▁</td></tr><tr><td>final_val_loss</td><td>▁</td></tr><tr><td>final_val_perplexity</td><td>▁</td></tr><tr><td>train_loss</td><td>█▄▃▂▁</td></tr><tr><td>val_loss</td><td>█▅▃▂▁</td></tr></table><br/></div><div class=\"wandb-col\"><h3>Run summary:</h3><br/><table class=\"wandb\"><tr><td>best_val_loss</td><td>5.11323</td></tr><tr><td>epoch</td><td>5</td></tr><tr><td>final_test_loss</td><td>5.11068</td></tr><tr><td>final_test_perplexity</td><td>165.78267</td></tr><tr><td>final_train_loss</td><td>4.83489</td></tr><tr><td>final_train_perplexity</td><td>125.82431</td></tr><tr><td>final_val_loss</td><td>5.11385</td></tr><tr><td>final_val_perplexity</td><td>166.30864</td></tr><tr><td>train_loss</td><td>5.12349</td></tr><tr><td>val_loss</td><td>5.11323</td></tr></table><br/></div></div>"
            ],
            "text/plain": [
              "<IPython.core.display.HTML object>"
            ]
          },
          "metadata": {},
          "output_type": "display_data"
        },
        {
          "data": {
            "text/html": [
              " View run <strong style=\"color:#cdcd00\">revived-monkey-16</strong> at: <a href='https://wandb.ai/oops-moment-iiit-hyderabad/language_model/runs/841gm3jc' target=\"_blank\">https://wandb.ai/oops-moment-iiit-hyderabad/language_model/runs/841gm3jc</a><br/> View project at: <a href='https://wandb.ai/oops-moment-iiit-hyderabad/language_model' target=\"_blank\">https://wandb.ai/oops-moment-iiit-hyderabad/language_model</a><br/>Synced 5 W&B file(s), 0 media file(s), 0 artifact file(s) and 0 other file(s)"
            ],
            "text/plain": [
              "<IPython.core.display.HTML object>"
            ]
          },
          "metadata": {},
          "output_type": "display_data"
        },
        {
          "data": {
            "text/html": [
              "Find logs at: <code>./wandb/run-20240909_181011-841gm3jc/logs</code>"
            ],
            "text/plain": [
              "<IPython.core.display.HTML object>"
            ]
          },
          "metadata": {},
          "output_type": "display_data"
        },
        {
          "data": {
            "text/html": [
              "The new W&B backend becomes opt-out in version 0.18.0; try it out with `wandb.require(\"core\")`! See https://wandb.me/wandb-core for more information."
            ],
            "text/plain": [
              "<IPython.core.display.HTML object>"
            ]
          },
          "metadata": {},
          "output_type": "display_data"
        },
        {
          "data": {
            "text/html": [
              "Successfully finished last run (ID:841gm3jc). Initializing new run:<br/>"
            ],
            "text/plain": [
              "<IPython.core.display.HTML object>"
            ]
          },
          "metadata": {},
          "output_type": "display_data"
        },
        {
          "data": {
            "application/vnd.jupyter.widget-view+json": {
              "model_id": "f2de0c3ea8c54461970a8c3215902cb6",
              "version_major": 2,
              "version_minor": 0
            },
            "text/plain": [
              "VBox(children=(Label(value='Waiting for wandb.init()...\\r'), FloatProgress(value=0.011112709388887905, max=1.0…"
            ]
          },
          "metadata": {},
          "output_type": "display_data"
        },
        {
          "data": {
            "text/html": [
              "wandb version 0.17.9 is available!  To upgrade, please run:\n",
              " $ pip install wandb --upgrade"
            ],
            "text/plain": [
              "<IPython.core.display.HTML object>"
            ]
          },
          "metadata": {},
          "output_type": "display_data"
        },
        {
          "data": {
            "text/html": [
              "Tracking run with wandb version 0.17.7"
            ],
            "text/plain": [
              "<IPython.core.display.HTML object>"
            ]
          },
          "metadata": {},
          "output_type": "display_data"
        },
        {
          "data": {
            "text/html": [
              "Run data is saved locally in <code>/kaggle/working/wandb/run-20240909_183922-j61cwf3q</code>"
            ],
            "text/plain": [
              "<IPython.core.display.HTML object>"
            ]
          },
          "metadata": {},
          "output_type": "display_data"
        },
        {
          "data": {
            "text/html": [
              "Syncing run <strong><a href='https://wandb.ai/oops-moment-iiit-hyderabad/language_model/runs/j61cwf3q' target=\"_blank\">summer-moon-17</a></strong> to <a href='https://wandb.ai/oops-moment-iiit-hyderabad/language_model' target=\"_blank\">Weights & Biases</a> (<a href='https://wandb.me/run' target=\"_blank\">docs</a>)<br/>"
            ],
            "text/plain": [
              "<IPython.core.display.HTML object>"
            ]
          },
          "metadata": {},
          "output_type": "display_data"
        },
        {
          "data": {
            "text/html": [
              " View project at <a href='https://wandb.ai/oops-moment-iiit-hyderabad/language_model' target=\"_blank\">https://wandb.ai/oops-moment-iiit-hyderabad/language_model</a>"
            ],
            "text/plain": [
              "<IPython.core.display.HTML object>"
            ]
          },
          "metadata": {},
          "output_type": "display_data"
        },
        {
          "data": {
            "text/html": [
              " View run at <a href='https://wandb.ai/oops-moment-iiit-hyderabad/language_model/runs/j61cwf3q' target=\"_blank\">https://wandb.ai/oops-moment-iiit-hyderabad/language_model/runs/j61cwf3q</a>"
            ],
            "text/plain": [
              "<IPython.core.display.HTML object>"
            ]
          },
          "metadata": {},
          "output_type": "display_data"
        },
        {
          "name": "stdout",
          "output_type": "stream",
          "text": [
            "Epoch [1/5], Train Loss: 6.1197, Val Loss: 5.5998\n",
            "Epoch [2/5], Train Loss: 5.6956, Val Loss: 5.4250\n",
            "Epoch [4/5], Train Loss: 5.4503, Val Loss: 5.2515\n",
            "Epoch [5/5], Train Loss: 5.3790, Val Loss: 5.2124\n",
            "Testing dropout rate: 0.7\n"
          ]
        },
        {
          "data": {
            "text/html": [
              "Finishing last run (ID:j61cwf3q) before initializing another..."
            ],
            "text/plain": [
              "<IPython.core.display.HTML object>"
            ]
          },
          "metadata": {},
          "output_type": "display_data"
        },
        {
          "data": {
            "application/vnd.jupyter.widget-view+json": {
              "model_id": "",
              "version_major": 2,
              "version_minor": 0
            },
            "text/plain": [
              "VBox(children=(Label(value='0.001 MB of 0.001 MB uploaded\\r'), FloatProgress(value=1.0, max=1.0)))"
            ]
          },
          "metadata": {},
          "output_type": "display_data"
        },
        {
          "data": {
            "text/html": [
              "<style>\n",
              "    table.wandb td:nth-child(1) { padding: 0 10px; text-align: left ; width: auto;} td:nth-child(2) {text-align: left ; width: 100%}\n",
              "    .wandb-row { display: flex; flex-direction: row; flex-wrap: wrap; justify-content: flex-start; width: 100% }\n",
              "    .wandb-col { display: flex; flex-direction: column; flex-basis: 100%; flex: 1; padding: 10px; }\n",
              "    </style>\n",
              "<div class=\"wandb-row\"><div class=\"wandb-col\"><h3>Run history:</h3><br/><table class=\"wandb\"><tr><td>best_val_loss</td><td>█▅▃▂▁</td></tr><tr><td>epoch</td><td>▁▃▅▆█</td></tr><tr><td>final_test_loss</td><td>▁</td></tr><tr><td>final_test_perplexity</td><td>▁</td></tr><tr><td>final_train_loss</td><td>▁</td></tr><tr><td>final_train_perplexity</td><td>▁</td></tr><tr><td>final_val_loss</td><td>▁</td></tr><tr><td>final_val_perplexity</td><td>▁</td></tr><tr><td>train_loss</td><td>█▄▃▂▁</td></tr><tr><td>val_loss</td><td>█▅▃▂▁</td></tr></table><br/></div><div class=\"wandb-col\"><h3>Run summary:</h3><br/><table class=\"wandb\"><tr><td>best_val_loss</td><td>5.21237</td></tr><tr><td>epoch</td><td>5</td></tr><tr><td>final_test_loss</td><td>5.20972</td></tr><tr><td>final_test_perplexity</td><td>183.04317</td></tr><tr><td>final_train_loss</td><td>5.09605</td></tr><tr><td>final_train_perplexity</td><td>163.37456</td></tr><tr><td>final_val_loss</td><td>5.21301</td></tr><tr><td>final_val_perplexity</td><td>183.64676</td></tr><tr><td>train_loss</td><td>5.37895</td></tr><tr><td>val_loss</td><td>5.21237</td></tr></table><br/></div></div>"
            ],
            "text/plain": [
              "<IPython.core.display.HTML object>"
            ]
          },
          "metadata": {},
          "output_type": "display_data"
        },
        {
          "data": {
            "text/html": [
              " View run <strong style=\"color:#cdcd00\">summer-moon-17</strong> at: <a href='https://wandb.ai/oops-moment-iiit-hyderabad/language_model/runs/j61cwf3q' target=\"_blank\">https://wandb.ai/oops-moment-iiit-hyderabad/language_model/runs/j61cwf3q</a><br/> View project at: <a href='https://wandb.ai/oops-moment-iiit-hyderabad/language_model' target=\"_blank\">https://wandb.ai/oops-moment-iiit-hyderabad/language_model</a><br/>Synced 5 W&B file(s), 0 media file(s), 0 artifact file(s) and 0 other file(s)"
            ],
            "text/plain": [
              "<IPython.core.display.HTML object>"
            ]
          },
          "metadata": {},
          "output_type": "display_data"
        },
        {
          "data": {
            "text/html": [
              "Find logs at: <code>./wandb/run-20240909_183922-j61cwf3q/logs</code>"
            ],
            "text/plain": [
              "<IPython.core.display.HTML object>"
            ]
          },
          "metadata": {},
          "output_type": "display_data"
        },
        {
          "data": {
            "text/html": [
              "The new W&B backend becomes opt-out in version 0.18.0; try it out with `wandb.require(\"core\")`! See https://wandb.me/wandb-core for more information."
            ],
            "text/plain": [
              "<IPython.core.display.HTML object>"
            ]
          },
          "metadata": {},
          "output_type": "display_data"
        },
        {
          "data": {
            "text/html": [
              "Successfully finished last run (ID:j61cwf3q). Initializing new run:<br/>"
            ],
            "text/plain": [
              "<IPython.core.display.HTML object>"
            ]
          },
          "metadata": {},
          "output_type": "display_data"
        },
        {
          "data": {
            "text/html": [
              "wandb version 0.17.9 is available!  To upgrade, please run:\n",
              " $ pip install wandb --upgrade"
            ],
            "text/plain": [
              "<IPython.core.display.HTML object>"
            ]
          },
          "metadata": {},
          "output_type": "display_data"
        },
        {
          "data": {
            "text/html": [
              "Tracking run with wandb version 0.17.7"
            ],
            "text/plain": [
              "<IPython.core.display.HTML object>"
            ]
          },
          "metadata": {},
          "output_type": "display_data"
        },
        {
          "data": {
            "text/html": [
              "Run data is saved locally in <code>/kaggle/working/wandb/run-20240909_190919-t9pfrrfc</code>"
            ],
            "text/plain": [
              "<IPython.core.display.HTML object>"
            ]
          },
          "metadata": {},
          "output_type": "display_data"
        },
        {
          "data": {
            "text/html": [
              "Syncing run <strong><a href='https://wandb.ai/oops-moment-iiit-hyderabad/language_model/runs/t9pfrrfc' target=\"_blank\">good-elevator-18</a></strong> to <a href='https://wandb.ai/oops-moment-iiit-hyderabad/language_model' target=\"_blank\">Weights & Biases</a> (<a href='https://wandb.me/run' target=\"_blank\">docs</a>)<br/>"
            ],
            "text/plain": [
              "<IPython.core.display.HTML object>"
            ]
          },
          "metadata": {},
          "output_type": "display_data"
        },
        {
          "data": {
            "text/html": [
              " View project at <a href='https://wandb.ai/oops-moment-iiit-hyderabad/language_model' target=\"_blank\">https://wandb.ai/oops-moment-iiit-hyderabad/language_model</a>"
            ],
            "text/plain": [
              "<IPython.core.display.HTML object>"
            ]
          },
          "metadata": {},
          "output_type": "display_data"
        },
        {
          "data": {
            "text/html": [
              " View run at <a href='https://wandb.ai/oops-moment-iiit-hyderabad/language_model/runs/t9pfrrfc' target=\"_blank\">https://wandb.ai/oops-moment-iiit-hyderabad/language_model/runs/t9pfrrfc</a>"
            ],
            "text/plain": [
              "<IPython.core.display.HTML object>"
            ]
          },
          "metadata": {},
          "output_type": "display_data"
        },
        {
          "name": "stdout",
          "output_type": "stream",
          "text": [
            "Epoch [1/5], Train Loss: 6.3809, Val Loss: 5.7971\n",
            "Epoch [2/5], Train Loss: 5.9536, Val Loss: 5.6181\n",
            "Epoch [3/5], Train Loss: 5.8205, Val Loss: 5.5229\n",
            "Epoch [5/5], Train Loss: 5.6732, Val Loss: 5.4195\n"
          ]
        }
      ],
      "source": [
        "# Analyze dropout rate last\n",
        "best_dropout_rate = None\n",
        "best_dropout_perplexity = float('inf')\n",
        "dropout_rates = [0.3, 0.5, 0.7]\n",
        "dropout_ppl=[]\n",
        "dropout_val=[]\n",
        "\n",
        "for dropout_rate in dropout_rates:\n",
        "    print(f\"Testing dropout rate: {dropout_rate}\")\n",
        "    _, val_ppl, test_ppl,train_loss,val_loss = train_and_evaluate(best_optimizer, d_hidden=best_hidden_size, dropout_rate=dropout_rate)\n",
        "    dropout_ppl.append(test_ppl)\n",
        "    dropout_val.append(val_ppl)\n",
        "    if val_ppl < best_dropout_perplexity:\n",
        "        best_dropout_rate = dropout_rate\n",
        "        best_dropout_perplexity = test_ppl\n",
        "\n"
      ]
    },
    {
      "cell_type": "code",
      "execution_count": 5,
      "metadata": {
        "colab": {
          "base_uri": "https://localhost:8080/",
          "height": 609
        },
        "id": "gs49qBkepwlC",
        "outputId": "4ac29e02-9fb9-4e71-b376-e393d6df7758"
      },
      "outputs": [
        {
          "data": {
            "image/png": "[encoded data removed]",
            "text/plain": [
              "<Figure size 1000x600 with 2 Axes>"
            ]
          },
          "metadata": {},
          "output_type": "display_data"
        }
      ],
      "source": [
        "# Configuration details for the experiment\n",
        "config_details_dropout = {\n",
        "    'd_hidden': 400,\n",
        "    'epochs': 5,\n",
        "    'learning_rate': 0.01,\n",
        "    'n_gram_size': 5,\n",
        "    'optimizer': 'SGD'\n",
        "}\n",
        "\n",
        "# Data for losses and perplexity based on dropout rate\n",
        "dropout_rates = ['0.3', '0.5', '0.7']\n",
        "test_losses_dropout = [5.110677545824702, 5.209722155976977, 5.4136997686095185]\n",
        "val_losses_dropout = [5.14384553340837, 5.233014258640264, 5.449928296506795]\n",
        "test_perplexities_dropout = [165.7826690673828, 183.0431671142578, 224.46047973632812]\n",
        "val_perplexities_dropout = [168.3086395263672, 185.64675903320312, 227.8628692626953]\n",
        "\n",
        "# Plotting loss comparison\n",
        "plt.figure(figsize=(10, 6))\n",
        "\n",
        "# Test and Validation Loss for different dropout rates\n",
        "plt.subplot(1, 2, 1)\n",
        "plt.bar(dropout_rates, test_losses_dropout, color='skyblue', label='Test Loss')\n",
        "plt.bar(dropout_rates, val_losses_dropout, color='lightgreen', label='Validation Loss', alpha=0.7)\n",
        "plt.xlabel('Dropout Rate')\n",
        "plt.ylabel('Loss')\n",
        "plt.title('Comparison of Losses (Test & Validation)')\n",
        "plt.legend()\n",
        "\n",
        "# Plotting perplexity comparison\n",
        "plt.subplot(1, 2, 2)\n",
        "plt.bar(dropout_rates, test_perplexities_dropout, color='coral', label='Test Perplexity')\n",
        "plt.bar(dropout_rates, val_perplexities_dropout, color='salmon', label='Validation Perplexity', alpha=0.7)\n",
        "plt.xlabel('Dropout Rate')\n",
        "plt.ylabel('Perplexity')\n",
        "plt.title('Comparison of Perplexities (Test & Validation)')\n",
        "plt.legend()\n",
        "\n",
        "# Overall title and configuration display\n",
        "plt.suptitle('Dropout Rate Comparison\\nConfiguration: d_hidden=400, epochs=5, learning_rate=0.01, n_gram_size=5, optimizer=SGD')\n",
        "\n",
        "plt.tight_layout(rect=[0, 0, 1, 0.95])\n",
        "plt.show()"
      ]
    },
    {
      "cell_type": "code",
      "execution_count": null,
      "metadata": {
        "colab": {
          "referenced_widgets": [
            ""
          ]
        },
        "execution": {
          "iopub.execute_input": "2024-09-09T19:38:19.009895Z",
          "iopub.status.busy": "2024-09-09T19:38:19.009557Z",
          "iopub.status.idle": "2024-09-09T19:38:23.786132Z",
          "shell.execute_reply": "2024-09-09T19:38:23.785402Z",
          "shell.execute_reply.started": "2024-09-09T19:38:19.009858Z"
        },
        "id": "KvU11y-XYGNW",
        "outputId": "185d9205-9985-41ea-f4e3-1656720a09ed",
        "trusted": true
      },
      "outputs": [
        {
          "name": "stdout",
          "output_type": "stream",
          "text": [
            "Best settings: optimizer=sgd, hidden_size=400, dropout=0.3\n"
          ]
        },
        {
          "data": {
            "application/vnd.jupyter.widget-view+json": {
              "model_id": "",
              "version_major": 2,
              "version_minor": 0
            },
            "text/plain": [
              "VBox(children=(Label(value='0.001 MB of 0.001 MB uploaded\\r'), FloatProgress(value=1.0, max=1.0)))"
            ]
          },
          "metadata": {},
          "output_type": "display_data"
        },
        {
          "data": {
            "text/html": [
              "<style>\n",
              "    table.wandb td:nth-child(1) { padding: 0 10px; text-align: left ; width: auto;} td:nth-child(2) {text-align: left ; width: 100%}\n",
              "    .wandb-row { display: flex; flex-direction: row; flex-wrap: wrap; justify-content: flex-start; width: 100% }\n",
              "    .wandb-col { display: flex; flex-direction: column; flex-basis: 100%; flex: 1; padding: 10px; }\n",
              "    </style>\n",
              "<div class=\"wandb-row\"><div class=\"wandb-col\"><h3>Run history:</h3><br/><table class=\"wandb\"><tr><td>best_val_loss</td><td>█▅▃▂▁</td></tr><tr><td>epoch</td><td>▁▃▅▆█</td></tr><tr><td>final_test_loss</td><td>▁</td></tr><tr><td>final_test_perplexity</td><td>▁</td></tr><tr><td>final_train_loss</td><td>▁</td></tr><tr><td>final_train_perplexity</td><td>▁</td></tr><tr><td>final_val_loss</td><td>▁</td></tr><tr><td>final_val_perplexity</td><td>▁</td></tr><tr><td>train_loss</td><td>█▄▂▂▁</td></tr><tr><td>val_loss</td><td>█▅▃▂▁</td></tr></table><br/></div><div class=\"wandb-col\"><h3>Run summary:</h3><br/><table class=\"wandb\"><tr><td>best_val_loss</td><td>5.41947</td></tr><tr><td>epoch</td><td>5</td></tr><tr><td>final_test_loss</td><td>5.4137</td></tr><tr><td>final_test_perplexity</td><td>224.46048</td></tr><tr><td>final_train_loss</td><td>5.401</td></tr><tr><td>final_train_perplexity</td><td>221.62794</td></tr><tr><td>final_val_loss</td><td>5.41993</td></tr><tr><td>final_val_perplexity</td><td>225.86287</td></tr><tr><td>train_loss</td><td>5.67325</td></tr><tr><td>val_loss</td><td>5.41947</td></tr></table><br/></div></div>"
            ],
            "text/plain": [
              "<IPython.core.display.HTML object>"
            ]
          },
          "metadata": {},
          "output_type": "display_data"
        },
        {
          "data": {
            "text/html": [
              " View run <strong style=\"color:#cdcd00\">good-elevator-18</strong> at: <a href='https://wandb.ai/oops-moment-iiit-hyderabad/language_model/runs/t9pfrrfc' target=\"_blank\">https://wandb.ai/oops-moment-iiit-hyderabad/language_model/runs/t9pfrrfc</a><br/> View project at: <a href='https://wandb.ai/oops-moment-iiit-hyderabad/language_model' target=\"_blank\">https://wandb.ai/oops-moment-iiit-hyderabad/language_model</a><br/>Synced 5 W&B file(s), 0 media file(s), 0 artifact file(s) and 0 other file(s)"
            ],
            "text/plain": [
              "<IPython.core.display.HTML object>"
            ]
          },
          "metadata": {},
          "output_type": "display_data"
        },
        {
          "data": {
            "text/html": [
              "Find logs at: <code>./wandb/run-20240909_190919-t9pfrrfc/logs</code>"
            ],
            "text/plain": [
              "<IPython.core.display.HTML object>"
            ]
          },
          "metadata": {},
          "output_type": "display_data"
        },
        {
          "data": {
            "text/html": [
              "The new W&B backend becomes opt-out in version 0.18.0; try it out with `wandb.require(\"core\")`! See https://wandb.me/wandb-core for more information."
            ],
            "text/plain": [
              "<IPython.core.display.HTML object>"
            ]
          },
          "metadata": {},
          "output_type": "display_data"
        }
      ],
      "source": [
        "print(f\"Best settings: optimizer={best_optimizer}, hidden_size={best_hidden_size}, dropout={best_dropout_rate}\")\n",
        "# Finish wandb run\n",
        "wandb.finish()"
      ]
    }
  ],
  "metadata": {
    "colab": {
      "provenance": []
    },
    "kaggle": {
      "accelerator": "nvidiaTeslaT4",
      "dataSources": [
        {
          "datasetId": 5661058,
          "sourceId": 9341166,
          "sourceType": "datasetVersion"
        },
        {
          "datasetId": 5661064,
          "sourceId": 9341178,
          "sourceType": "datasetVersion"
        }
      ],
      "dockerImageVersionId": 30762,
      "isGpuEnabled": true,
      "isInternetEnabled": true,
      "language": "python",
      "sourceType": "notebook"
    },
    "kernelspec": {
      "display_name": "Python 3",
      "name": "python3"
    },
    "language_info": {
      "codemirror_mode": {
        "name": "ipython",
        "version": 3
      },
      "file_extension": ".py",
      "mimetype": "text/x-python",
      "name": "python",
      "nbconvert_exporter": "python",
      "pygments_lexer": "ipython3",
      "version": "3.12.6"
    }
  },
  "nbformat": 4,
  "nbformat_minor": 0
}
