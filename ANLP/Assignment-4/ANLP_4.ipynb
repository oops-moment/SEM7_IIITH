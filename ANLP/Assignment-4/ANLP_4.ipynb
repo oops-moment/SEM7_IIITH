{
  "nbformat": 4,
  "nbformat_minor": 0,
  "metadata": {
    "colab": {
      "provenance": [],
      "gpuType": "T4"
    },
    "kernelspec": {
      "name": "python3",
      "display_name": "Python 3"
    },
    "language_info": {
      "name": "python"
    },
    "accelerator": "GPU"
  },
  "cells": [
    {
      "cell_type": "code",
      "source": [
        "!pip install datasets"
      ],
      "metadata": {
        "colab": {
          "base_uri": "https://localhost:8080/"
        },
        "id": "ZfTvJFhpvy_U",
        "outputId": "e214cb6f-88b9-42cd-aecf-a4ad319fa3c3"
      },
      "execution_count": 4,
      "outputs": [
        {
          "output_type": "stream",
          "name": "stdout",
          "text": [
            "Collecting datasets\n",
            "  Using cached datasets-3.1.0-py3-none-any.whl.metadata (20 kB)\n",
            "Requirement already satisfied: filelock in /usr/local/lib/python3.10/dist-packages (from datasets) (3.16.1)\n",
            "Requirement already satisfied: numpy>=1.17 in /usr/local/lib/python3.10/dist-packages (from datasets) (1.26.4)\n",
            "Requirement already satisfied: pyarrow>=15.0.0 in /usr/local/lib/python3.10/dist-packages (from datasets) (17.0.0)\n",
            "Collecting dill<0.3.9,>=0.3.0 (from datasets)\n",
            "  Downloading dill-0.3.8-py3-none-any.whl.metadata (10 kB)\n",
            "Requirement already satisfied: pandas in /usr/local/lib/python3.10/dist-packages (from datasets) (2.2.2)\n",
            "Requirement already satisfied: requests>=2.32.2 in /usr/local/lib/python3.10/dist-packages (from datasets) (2.32.3)\n",
            "Requirement already satisfied: tqdm>=4.66.3 in /usr/local/lib/python3.10/dist-packages (from datasets) (4.66.6)\n",
            "Collecting xxhash (from datasets)\n",
            "  Downloading xxhash-3.5.0-cp310-cp310-manylinux_2_17_x86_64.manylinux2014_x86_64.whl.metadata (12 kB)\n",
            "Collecting multiprocess<0.70.17 (from datasets)\n",
            "  Downloading multiprocess-0.70.16-py310-none-any.whl.metadata (7.2 kB)\n",
            "Collecting fsspec<=2024.9.0,>=2023.1.0 (from fsspec[http]<=2024.9.0,>=2023.1.0->datasets)\n",
            "  Downloading fsspec-2024.9.0-py3-none-any.whl.metadata (11 kB)\n",
            "Requirement already satisfied: aiohttp in /usr/local/lib/python3.10/dist-packages (from datasets) (3.10.10)\n",
            "Requirement already satisfied: huggingface-hub>=0.23.0 in /usr/local/lib/python3.10/dist-packages (from datasets) (0.24.7)\n",
            "Requirement already satisfied: packaging in /usr/local/lib/python3.10/dist-packages (from datasets) (24.1)\n",
            "Requirement already satisfied: pyyaml>=5.1 in /usr/local/lib/python3.10/dist-packages (from datasets) (6.0.2)\n",
            "Requirement already satisfied: aiohappyeyeballs>=2.3.0 in /usr/local/lib/python3.10/dist-packages (from aiohttp->datasets) (2.4.3)\n",
            "Requirement already satisfied: aiosignal>=1.1.2 in /usr/local/lib/python3.10/dist-packages (from aiohttp->datasets) (1.3.1)\n",
            "Requirement already satisfied: attrs>=17.3.0 in /usr/local/lib/python3.10/dist-packages (from aiohttp->datasets) (24.2.0)\n",
            "Requirement already satisfied: frozenlist>=1.1.1 in /usr/local/lib/python3.10/dist-packages (from aiohttp->datasets) (1.5.0)\n",
            "Requirement already satisfied: multidict<7.0,>=4.5 in /usr/local/lib/python3.10/dist-packages (from aiohttp->datasets) (6.1.0)\n",
            "Requirement already satisfied: yarl<2.0,>=1.12.0 in /usr/local/lib/python3.10/dist-packages (from aiohttp->datasets) (1.17.0)\n",
            "Requirement already satisfied: async-timeout<5.0,>=4.0 in /usr/local/lib/python3.10/dist-packages (from aiohttp->datasets) (4.0.3)\n",
            "Requirement already satisfied: typing-extensions>=3.7.4.3 in /usr/local/lib/python3.10/dist-packages (from huggingface-hub>=0.23.0->datasets) (4.12.2)\n",
            "Requirement already satisfied: charset-normalizer<4,>=2 in /usr/local/lib/python3.10/dist-packages (from requests>=2.32.2->datasets) (3.4.0)\n",
            "Requirement already satisfied: idna<4,>=2.5 in /usr/local/lib/python3.10/dist-packages (from requests>=2.32.2->datasets) (3.10)\n",
            "Requirement already satisfied: urllib3<3,>=1.21.1 in /usr/local/lib/python3.10/dist-packages (from requests>=2.32.2->datasets) (2.2.3)\n",
            "Requirement already satisfied: certifi>=2017.4.17 in /usr/local/lib/python3.10/dist-packages (from requests>=2.32.2->datasets) (2024.8.30)\n",
            "Requirement already satisfied: python-dateutil>=2.8.2 in /usr/local/lib/python3.10/dist-packages (from pandas->datasets) (2.8.2)\n",
            "Requirement already satisfied: pytz>=2020.1 in /usr/local/lib/python3.10/dist-packages (from pandas->datasets) (2024.2)\n",
            "Requirement already satisfied: tzdata>=2022.7 in /usr/local/lib/python3.10/dist-packages (from pandas->datasets) (2024.2)\n",
            "Requirement already satisfied: six>=1.5 in /usr/local/lib/python3.10/dist-packages (from python-dateutil>=2.8.2->pandas->datasets) (1.16.0)\n",
            "Requirement already satisfied: propcache>=0.2.0 in /usr/local/lib/python3.10/dist-packages (from yarl<2.0,>=1.12.0->aiohttp->datasets) (0.2.0)\n",
            "Downloading datasets-3.1.0-py3-none-any.whl (480 kB)\n",
            "\u001b[2K   \u001b[90m━━━━━━━━━━━━━━━━━━━━━━━━━━━━━━━━━━━━━━━━\u001b[0m \u001b[32m480.6/480.6 kB\u001b[0m \u001b[31m30.5 MB/s\u001b[0m eta \u001b[36m0:00:00\u001b[0m\n",
            "\u001b[?25hDownloading dill-0.3.8-py3-none-any.whl (116 kB)\n",
            "\u001b[2K   \u001b[90m━━━━━━━━━━━━━━━━━━━━━━━━━━━━━━━━━━━━━━━━\u001b[0m \u001b[32m116.3/116.3 kB\u001b[0m \u001b[31m10.2 MB/s\u001b[0m eta \u001b[36m0:00:00\u001b[0m\n",
            "\u001b[?25hDownloading fsspec-2024.9.0-py3-none-any.whl (179 kB)\n",
            "\u001b[2K   \u001b[90m━━━━━━━━━━━━━━━━━━━━━━━━━━━━━━━━━━━━━━━━\u001b[0m \u001b[32m179.3/179.3 kB\u001b[0m \u001b[31m14.9 MB/s\u001b[0m eta \u001b[36m0:00:00\u001b[0m\n",
            "\u001b[?25hDownloading multiprocess-0.70.16-py310-none-any.whl (134 kB)\n",
            "\u001b[2K   \u001b[90m━━━━━━━━━━━━━━━━━━━━━━━━━━━━━━━━━━━━━━━━\u001b[0m \u001b[32m134.8/134.8 kB\u001b[0m \u001b[31m12.2 MB/s\u001b[0m eta \u001b[36m0:00:00\u001b[0m\n",
            "\u001b[?25hDownloading xxhash-3.5.0-cp310-cp310-manylinux_2_17_x86_64.manylinux2014_x86_64.whl (194 kB)\n",
            "\u001b[2K   \u001b[90m━━━━━━━━━━━━━━━━━━━━━━━━━━━━━━━━━━━━━━━━\u001b[0m \u001b[32m194.1/194.1 kB\u001b[0m \u001b[31m17.2 MB/s\u001b[0m eta \u001b[36m0:00:00\u001b[0m\n",
            "\u001b[?25hInstalling collected packages: xxhash, fsspec, dill, multiprocess, datasets\n",
            "  Attempting uninstall: fsspec\n",
            "    Found existing installation: fsspec 2024.10.0\n",
            "    Uninstalling fsspec-2024.10.0:\n",
            "      Successfully uninstalled fsspec-2024.10.0\n",
            "\u001b[31mERROR: pip's dependency resolver does not currently take into account all the packages that are installed. This behaviour is the source of the following dependency conflicts.\n",
            "gcsfs 2024.10.0 requires fsspec==2024.10.0, but you have fsspec 2024.9.0 which is incompatible.\u001b[0m\u001b[31m\n",
            "\u001b[0mSuccessfully installed datasets-3.1.0 dill-0.3.8 fsspec-2024.9.0 multiprocess-0.70.16 xxhash-3.5.0\n"
          ]
        }
      ]
    },
    {
      "cell_type": "markdown",
      "source": [
        "## Import the Required Libraries"
      ],
      "metadata": {
        "id": "gKmUOXqQv4Yp"
      }
    },
    {
      "cell_type": "code",
      "source": [
        "import torch\n",
        "import transformers\n",
        "from transformers import GPT2LMHeadModel, GPT2Tokenizer\n",
        "import time\n",
        "import numpy as np\n",
        "from datasets import load_dataset\n",
        "from tqdm import tqdm"
      ],
      "metadata": {
        "id": "7DP8aE8Ov8qU"
      },
      "execution_count": 106,
      "outputs": []
    },
    {
      "cell_type": "code",
      "source": [
        "model_name = 'gpt2'\n",
        "model = GPT2LMHeadModel.from_pretrained(model_name)\n",
        "tokenizer = GPT2Tokenizer.from_pretrained(model_name)\n",
        "\n",
        "dataset = load_dataset(\"wikitext\", \"wikitext-2-raw-v1\", split=\"train\")\n",
        "sample_data = [text[:128] for text in dataset['text'][:3000] if text.strip()]\n"
      ],
      "metadata": {
        "colab": {
          "base_uri": "https://localhost:8080/"
        },
        "id": "R47B5r4_wIPm",
        "outputId": "af3fa648-2a4e-4573-f05e-34c81bf1a34d"
      },
      "execution_count": 107,
      "outputs": [
        {
          "output_type": "stream",
          "name": "stderr",
          "text": [
            "/usr/local/lib/python3.10/dist-packages/transformers/tokenization_utils_base.py:1601: FutureWarning: `clean_up_tokenization_spaces` was not set. It will be set to `True` by default. This behavior will be depracted in transformers v4.45, and will be then set to `False` by default. For more details check this issue: https://github.com/huggingface/transformers/issues/31884\n",
            "  warnings.warn(\n"
          ]
        }
      ]
    },
    {
      "cell_type": "code",
      "source": [
        "# Calculate perplexity (using tqdm for progress bar)\n",
        "def calculate_perplexity(model, tokenizer, dataset, device):\n",
        "    model.to(device)\n",
        "    model.eval()\n",
        "    total_loss = 0\n",
        "    num_batches = 0\n",
        "\n",
        "    # Wrap the loop with tqdm to create a progress bar\n",
        "    for i in tqdm(range(0, len(dataset), 5), desc=\"Calculating Perplexity\"):\n",
        "        batch_texts = dataset[i:i + 5]\n",
        "        inputs = preprocess_data(batch_texts, tokenizer).to(device)\n",
        "\n",
        "        with torch.no_grad():\n",
        "            outputs = model(**inputs, labels=inputs['input_ids'])\n",
        "            loss = outputs.loss\n",
        "            total_loss += loss.item()\n",
        "            num_batches += 1\n",
        "\n",
        "    average_loss = total_loss / num_batches\n",
        "    perplexity = torch.exp(torch.tensor(average_loss))\n",
        "    return perplexity.item()"
      ],
      "metadata": {
        "id": "ylL8lh5_wbl2"
      },
      "execution_count": 108,
      "outputs": []
    },
    {
      "cell_type": "code",
      "source": [
        "# Calculate memory footprint\n",
        "def calculate_model_size(model, weight_bit_width=32):\n",
        "    \"\"\"Calculates the size of the quantized model on disk (approximate).\"\"\"\n",
        "    total_size_bytes = 0\n",
        "    for name, param in model.named_parameters():\n",
        "        if \"weight\" in name and param.dim() > 1:  # Quantized weights (exclude bias and other params)\n",
        "            num_elements = param.numel()\n",
        "            bytes_per_element = weight_bit_width // 8  # e.g., 1 byte for INT8\n",
        "            total_size_bytes += num_elements * bytes_per_element\n",
        "        else: #original size if the data is not quantized.\n",
        "            total_size_bytes += param.numel() * param.element_size()\n",
        "\n",
        "    total_size_mb = total_size_bytes / (1024 ** 2)\n",
        "    return total_size_mb"
      ],
      "metadata": {
        "id": "7CBp4u9Owkk4"
      },
      "execution_count": 109,
      "outputs": []
    },
    {
      "cell_type": "code",
      "source": [
        "# Measure inference latency\n",
        "def measure_inference_latency(model, inputs, device):\n",
        "    inputs = {k: v.to(device) for k, v in inputs.items()}\n",
        "    start_time = time.time()\n",
        "    with torch.no_grad():\n",
        "        model(**inputs)\n",
        "    end_time = time.time()\n",
        "    latency = end_time - start_time\n",
        "    return latency"
      ],
      "metadata": {
        "id": "znSzJ-POyzbz"
      },
      "execution_count": 110,
      "outputs": []
    },
    {
      "cell_type": "code",
      "source": [
        "# Preprocess the data: tokenize and prepare input tensors\n",
        "def preprocess_data(texts, tokenizer, max_length=512):\n",
        "    tokenizer.pad_token = tokenizer.eos_token\n",
        "    return tokenizer(texts, return_tensors='pt', truncation=True, padding=True, max_length=max_length)\n",
        "\n",
        "# Prepare sample input data (first 5 samples for inference testing)\n",
        "sample_texts = sample_data[:5]\n",
        "inputs = preprocess_data(sample_texts, tokenizer)\n",
        "\n",
        "# Move model to appropriate device (use GPU if available)\n",
        "device = torch.device('cuda' if torch.cuda.is_available() else 'cpu')\n",
        "model.to(device)\n",
        "\n",
        "# Ensure model is in evaluation mode\n",
        "model.eval()\n"
      ],
      "metadata": {
        "colab": {
          "base_uri": "https://localhost:8080/"
        },
        "id": "bkv_ECfmy2ET",
        "outputId": "8f13aab4-3c9a-480f-b638-41211b771e02"
      },
      "execution_count": 111,
      "outputs": [
        {
          "output_type": "execute_result",
          "data": {
            "text/plain": [
              "GPT2LMHeadModel(\n",
              "  (transformer): GPT2Model(\n",
              "    (wte): Embedding(50257, 768)\n",
              "    (wpe): Embedding(1024, 768)\n",
              "    (drop): Dropout(p=0.1, inplace=False)\n",
              "    (h): ModuleList(\n",
              "      (0-11): 12 x GPT2Block(\n",
              "        (ln_1): LayerNorm((768,), eps=1e-05, elementwise_affine=True)\n",
              "        (attn): GPT2SdpaAttention(\n",
              "          (c_attn): Conv1D()\n",
              "          (c_proj): Conv1D()\n",
              "          (attn_dropout): Dropout(p=0.1, inplace=False)\n",
              "          (resid_dropout): Dropout(p=0.1, inplace=False)\n",
              "        )\n",
              "        (ln_2): LayerNorm((768,), eps=1e-05, elementwise_affine=True)\n",
              "        (mlp): GPT2MLP(\n",
              "          (c_fc): Conv1D()\n",
              "          (c_proj): Conv1D()\n",
              "          (act): NewGELUActivation()\n",
              "          (dropout): Dropout(p=0.1, inplace=False)\n",
              "        )\n",
              "      )\n",
              "    )\n",
              "    (ln_f): LayerNorm((768,), eps=1e-05, elementwise_affine=True)\n",
              "  )\n",
              "  (lm_head): Linear(in_features=768, out_features=50257, bias=False)\n",
              ")"
            ]
          },
          "metadata": {},
          "execution_count": 111
        }
      ]
    },
    {
      "cell_type": "markdown",
      "source": [
        "## BEFORE QUANTISATION"
      ],
      "metadata": {
        "id": "p8jGXRMj-6aG"
      }
    },
    {
      "cell_type": "code",
      "source": [
        "# Memory footprint before quantization\n",
        "memory_before_quant = calculate_model_size(model, weight_bit_width=32)  # No modules quantized\n",
        "print(f\"Memory Footprint (Pre-Quantization): {memory_before_quant:.2f} MB\")\n",
        "\n",
        "# Inference latency before quantization\n",
        "latency_before_quant = measure_inference_latency(model, inputs, device)\n",
        "print(f\"Inference Latency (Pre-Quantization): {latency_before_quant:.4f} seconds\")\n",
        "\n",
        "# Perplexity before quantization\n",
        "perplexity_before_quant = calculate_perplexity(model, tokenizer, sample_data, device)\n",
        "print(\"\\n\")\n",
        "print(f\"Perplexity (Pre-Quantization): {perplexity_before_quant:.2f}\")\n"
      ],
      "metadata": {
        "colab": {
          "base_uri": "https://localhost:8080/"
        },
        "id": "YqhXQUHjy5gG",
        "outputId": "59f29574-ce78-4179-cb95-91d79da6788a"
      },
      "execution_count": 113,
      "outputs": [
        {
          "output_type": "stream",
          "name": "stdout",
          "text": [
            "Memory Footprint (Pre-Quantization): 474.70 MB\n",
            "Inference Latency (Pre-Quantization): 0.0144 seconds\n"
          ]
        },
        {
          "output_type": "stream",
          "name": "stderr",
          "text": [
            "Calculating Perplexity: 100%|██████████| 383/383 [00:07<00:00, 50.66it/s]\n"
          ]
        },
        {
          "output_type": "stream",
          "name": "stdout",
          "text": [
            "\n",
            "\n",
            "Perplexity (Pre-Quantization): 851.16\n"
          ]
        }
      ]
    },
    {
      "cell_type": "markdown",
      "source": [
        "## WHOLE QUANTISATION"
      ],
      "metadata": {
        "id": "aRj0xM0l_UjA"
      }
    },
    {
      "cell_type": "code",
      "source": [
        "def quantize_model(model, weight_bit_width=8):\n",
        "    \"\"\"\n",
        "    Quantizes the model's weights to a specified bit width (default: 8-bit).\n",
        "    The function quantizes all linear layers within the model.\n",
        "    \"\"\"\n",
        "    quantized_param_names = []\n",
        "\n",
        "    def quantize_tensor(tensor, bit_width):\n",
        "        \"\"\"Quantizes a tensor to the specified bit width.\"\"\"\n",
        "        min_val = tensor.min()\n",
        "        max_val = tensor.max()\n",
        "\n",
        "        # Calculate scale for symmetric quantization\n",
        "        scale = (max_val - min_val) / (2**bit_width - 1)\n",
        "        zero_point = 0  # Symmetric quantization\n",
        "\n",
        "        # Quantize the tensor\n",
        "        quantized_tensor = (tensor / scale).round().clamp(-2**(bit_width - 1), 2**(bit_width - 1) - 1)\n",
        "        return quantized_tensor\n",
        "\n",
        "    # Iterate over named parameters and quantize only certain layers\n",
        "    for name, param in model.named_parameters():\n",
        "        # Check if it's a weight parameter of a Linear layer\n",
        "        if \"weight\" in name and any(layer_type in name for layer_type in ['transformer', 'linear', 'fc']):\n",
        "            with torch.no_grad():  # Ensure gradients aren't tracked during this operation\n",
        "                param.data = quantize_tensor(param.data, weight_bit_width)\n",
        "                quantized_param_names.append(name)\n",
        "\n",
        "    return model, quantized_param_names\n",
        "\n"
      ],
      "metadata": {
        "id": "HQbcs0HxzGph"
      },
      "execution_count": 114,
      "outputs": []
    },
    {
      "cell_type": "code",
      "source": [
        "weight_bit_width = 8\n",
        "quantized_model, quantized_param_names = quantize_model(model, weight_bit_width=weight_bit_width)\n"
      ],
      "metadata": {
        "colab": {
          "base_uri": "https://localhost:8080/"
        },
        "collapsed": true,
        "id": "bwfmeT9E0pVo",
        "outputId": "abbb38ea-6642-4c2f-9955-25313715ea30"
      },
      "execution_count": 115,
      "outputs": [
        {
          "output_type": "stream",
          "name": "stdout",
          "text": [
            "Quantized Model Size (on disk): 119.02 MB\n"
          ]
        }
      ]
    },
    {
      "cell_type": "code",
      "source": [
        "# Measure inference latency after quantization\n",
        "quantized_model_size = calculate_model_size(quantized_model,weight_bit_width=weight_bit_width)\n",
        "print(f\"Quantized Model Size (on disk): {quantized_model_size:.2f} MB\")\n",
        "\n",
        "latency_after_quant = measure_inference_latency(quantized_model, inputs, device)\n",
        "print(f\"Inference Latency (Post-Quantization): {latency_after_quant:.4f} seconds\")\n",
        "\n",
        "# Compute perplexity after quantization\n",
        "perplexity_after_quant = calculate_perplexity(quantized_model, tokenizer, sample_data, device)\n",
        "print(f\"Perplexity (Post-Quantization): {perplexity_after_quant:.2f}\")"
      ],
      "metadata": {
        "colab": {
          "base_uri": "https://localhost:8080/"
        },
        "id": "04zpKvL49aA8",
        "outputId": "8321cc36-271c-48f4-cb48-47901110678a"
      },
      "execution_count": 116,
      "outputs": [
        {
          "output_type": "stream",
          "name": "stdout",
          "text": [
            "Quantized Model Size (on disk): 119.02 MB\n",
            "Inference Latency (Post-Quantization): 0.0358 seconds\n"
          ]
        },
        {
          "output_type": "stream",
          "name": "stderr",
          "text": [
            "Calculating Perplexity: 100%|██████████| 383/383 [00:06<00:00, 58.63it/s]"
          ]
        },
        {
          "output_type": "stream",
          "name": "stdout",
          "text": [
            "Perplexity (Post-Quantization): inf\n"
          ]
        },
        {
          "output_type": "stream",
          "name": "stderr",
          "text": [
            "\n"
          ]
        }
      ]
    },
    {
      "cell_type": "markdown",
      "source": [
        "## SELECTIVE QUANTISATION"
      ],
      "metadata": {
        "id": "Q_wgjjoW_krD"
      }
    },
    {
      "cell_type": "code",
      "source": [
        "import torch\n",
        "\n",
        "def select_quantize_model(model, layers_to_quantize=None, weight_bit_width=8):\n",
        "    \"\"\"\n",
        "    Quantizes the model's weights to a specified bit width (default: 8-bit).\n",
        "    Selectively quantizes only the specified layers in the model (e.g., transformer blocks).\n",
        "\n",
        "    Args:\n",
        "        model: The PyTorch model to be quantized (e.g., GPT-2).\n",
        "        layers_to_quantize: A list of strings or substrings representing layers\n",
        "                            to be quantized (e.g., ['h', 'attn', 'mlp']).\n",
        "        weight_bit_width: The bit width for quantized weights (default: 8-bit).\n",
        "\n",
        "    Returns:\n",
        "        A tuple containing the quantized model and a list of quantized parameter names.\n",
        "    \"\"\"\n",
        "    quantized_param_names = []\n",
        "\n",
        "    def quantize_tensor(tensor, bit_width):\n",
        "        \"\"\"Quantizes a tensor to the specified bit width.\"\"\"\n",
        "        min_val = tensor.min()\n",
        "        max_val = tensor.max()\n",
        "\n",
        "        # Calculate scale for symmetric quantization\n",
        "        scale = (max_val - min_val) / (2**bit_width - 1)\n",
        "        zero_point = 0  # Symmetric quantization\n",
        "\n",
        "        # Quantize the tensor\n",
        "        quantized_tensor = (tensor / scale).round().clamp(-2**(bit_width - 1), 2**(bit_width - 1) - 1)\n",
        "        return quantized_tensor\n",
        "\n",
        "    # Iterate over named parameters and selectively quantize\n",
        "    for name, param in model.named_parameters():\n",
        "        if \"weight\" in name:\n",
        "            # Check if the parameter should be quantized based on the provided list\n",
        "            if layers_to_quantize and any(layer_type in name for layer_type in layers_to_quantize):\n",
        "                print(f\"Quantizing: {name}\")\n",
        "                with torch.no_grad():  # Ensure gradients aren't tracked during this operation\n",
        "                    param.data = quantize_tensor(param.data, weight_bit_width)\n",
        "                    quantized_param_names.append(name)\n",
        "\n",
        "    return model, quantized_param_names\n",
        "\n",
        "\n"
      ],
      "metadata": {
        "id": "pZBalF5J9o2y"
      },
      "execution_count": 97,
      "outputs": []
    },
    {
      "cell_type": "code",
      "source": [
        "weight_bit_width = 8\n",
        "layers_to_quantize = ['mlp']  # 'h' refers to transformer blocks in GPT-2\n",
        "quantized_model_2, quantized_param_names = select_quantize_model(model, layers_to_quantize=layers_to_quantize, weight_bit_width=weight_bit_width)"
      ],
      "metadata": {
        "colab": {
          "base_uri": "https://localhost:8080/"
        },
        "id": "9Emj33Sk-LTD",
        "outputId": "0a0bcd7d-c934-4735-fa79-6b0419cbccfa"
      },
      "execution_count": 124,
      "outputs": [
        {
          "output_type": "stream",
          "name": "stdout",
          "text": [
            "Quantizing: transformer.h.0.mlp.c_fc.weight\n",
            "Quantizing: transformer.h.0.mlp.c_proj.weight\n",
            "Quantizing: transformer.h.1.mlp.c_fc.weight\n",
            "Quantizing: transformer.h.1.mlp.c_proj.weight\n",
            "Quantizing: transformer.h.2.mlp.c_fc.weight\n",
            "Quantizing: transformer.h.2.mlp.c_proj.weight\n",
            "Quantizing: transformer.h.3.mlp.c_fc.weight\n",
            "Quantizing: transformer.h.3.mlp.c_proj.weight\n",
            "Quantizing: transformer.h.4.mlp.c_fc.weight\n",
            "Quantizing: transformer.h.4.mlp.c_proj.weight\n",
            "Quantizing: transformer.h.5.mlp.c_fc.weight\n",
            "Quantizing: transformer.h.5.mlp.c_proj.weight\n",
            "Quantizing: transformer.h.6.mlp.c_fc.weight\n",
            "Quantizing: transformer.h.6.mlp.c_proj.weight\n",
            "Quantizing: transformer.h.7.mlp.c_fc.weight\n",
            "Quantizing: transformer.h.7.mlp.c_proj.weight\n",
            "Quantizing: transformer.h.8.mlp.c_fc.weight\n",
            "Quantizing: transformer.h.8.mlp.c_proj.weight\n",
            "Quantizing: transformer.h.9.mlp.c_fc.weight\n",
            "Quantizing: transformer.h.9.mlp.c_proj.weight\n",
            "Quantizing: transformer.h.10.mlp.c_fc.weight\n",
            "Quantizing: transformer.h.10.mlp.c_proj.weight\n",
            "Quantizing: transformer.h.11.mlp.c_fc.weight\n",
            "Quantizing: transformer.h.11.mlp.c_proj.weight\n"
          ]
        }
      ]
    },
    {
      "cell_type": "code",
      "source": [
        "import torch\n",
        "\n",
        "def calculate_model_size(model, quantized_param_names, weight_bit_width=8):\n",
        "    \"\"\"\n",
        "    Calculates the size of the model on disk, accounting for quantized modules.\n",
        "\n",
        "    Args:\n",
        "        model: The PyTorch model.\n",
        "        quantized_param_names: A list of strings representing the names of parameters\n",
        "                               that have been quantized.\n",
        "        weight_bit_width: The bit width for quantized weights (default: 8-bit).\n",
        "\n",
        "    Returns:\n",
        "        The total size of the model in megabytes (MB).\n",
        "    \"\"\"\n",
        "    total_size_bytes = 0\n",
        "    for name, param in model.named_parameters():\n",
        "        # Check if the parameter is one of the selectively quantized parameters\n",
        "        if name in quantized_param_names:\n",
        "            # Quantized weights\n",
        "            num_elements = param.numel()\n",
        "            bytes_per_element = weight_bit_width // 8\n",
        "            total_size_bytes += num_elements * bytes_per_element\n",
        "        else:\n",
        "            # Regular weights\n",
        "            total_size_bytes += param.numel() * param.element_size()\n",
        "\n",
        "    total_size_mb = total_size_bytes / (1024 ** 2)\n",
        "    return total_size_mb\n",
        "\n",
        "\n",
        "quantized_model_size = calculate_model_size(quantized_model_2, quantized_param_names, weight_bit_width=weight_bit_width)\n",
        "print(f\"Quantized Model Size (on disk): {quantized_model_size:.2f} MB\")"
      ],
      "metadata": {
        "colab": {
          "base_uri": "https://localhost:8080/"
        },
        "id": "MUgOfd2F-YeE",
        "outputId": "9e716ba6-cca7-43dc-cf76-302eb8babe02"
      },
      "execution_count": 125,
      "outputs": [
        {
          "output_type": "stream",
          "name": "stdout",
          "text": [
            "Quantized Model Size (on disk): 312.70 MB\n"
          ]
        }
      ]
    },
    {
      "cell_type": "code",
      "source": [
        "# Measure inference latency after quantization\n",
        "latency_after_quant = measure_inference_latency(quantized_model_2.to(device), inputs, device)\n",
        "print(f\"Inference Latency (Post-Quantization): {latency_after_quant:.4f} seconds\")"
      ],
      "metadata": {
        "colab": {
          "base_uri": "https://localhost:8080/"
        },
        "id": "QWh5M4_s-gno",
        "outputId": "50f82ebf-7670-45ee-9f06-dc5c613b2bf7"
      },
      "execution_count": 126,
      "outputs": [
        {
          "output_type": "stream",
          "name": "stdout",
          "text": [
            "Inference Latency (Post-Quantization): 0.0142 seconds\n"
          ]
        }
      ]
    },
    {
      "cell_type": "code",
      "source": [
        "# Compute perplexity after quantization\n",
        "perplexity_after_quant = calculate_perplexity(quantized_model_2.to(device), tokenizer, sample_data, device)\n",
        "print(f\"Perplexity (Post-Quantization): {perplexity_after_quant:.2f}\")"
      ],
      "metadata": {
        "colab": {
          "base_uri": "https://localhost:8080/"
        },
        "id": "fnhpmrxQ-r8m",
        "outputId": "17edc85c-e283-4cb3-f13e-746113500167"
      },
      "execution_count": 127,
      "outputs": [
        {
          "output_type": "stream",
          "name": "stderr",
          "text": [
            "Calculating Perplexity: 100%|██████████| 383/383 [00:06<00:00, 63.75it/s]"
          ]
        },
        {
          "output_type": "stream",
          "name": "stdout",
          "text": [
            "Perplexity (Post-Quantization): 5744.22\n"
          ]
        },
        {
          "output_type": "stream",
          "name": "stderr",
          "text": [
            "\n"
          ]
        }
      ]
    }
  ]
}