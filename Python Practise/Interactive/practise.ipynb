{
 "cells": [
  {
   "cell_type": "code",
   "execution_count": null,
   "metadata": {},
   "outputs": [
    {
     "data": {
      "text/plain": [
       "abcdforabcd\n"
      ]
     },
     "metadata": {},
     "output_type": "display_data"
    }
   ],
   "source": [
    "input_string = \"geeksforgeeks\"\n",
    "s1 = \"geeks\"\n",
    "s2 = \"abcd\"\n",
    "input_string = input_string.replace(s1, s2)\n",
    "print(input_string)"
   ]
  },
  {
   "cell_type": "code",
   "execution_count": null,
   "metadata": {},
   "outputs": [],
   "source": [
    "import re\n",
    "input_String1= \"priuha.hello\"\n",
    "input_String2= \"prisha.chickoo\"\n",
    "\n",
    "input_String1= re.sub(r'[.]', ' ', input_String1)\n",
    "input_String2 = re.sub(r'[.]', ' ', input_String2)"
   ]
  },
  {
   "cell_type": "code",
   "execution_count": null,
   "metadata": {},
   "outputs": [
    {
     "data": {
      "text/plain": [
       "priuha hello\n",
       "prisha chickoo\n"
      ]
     },
     "metadata": {},
     "output_type": "display_data"
    }
   ],
   "source": [
    "print(input_String1)\n",
    "print(input_String2)"
   ]
  }
 ],
 "metadata": {
  "language_info": {
   "name": "python"
  }
 },
 "nbformat": 4,
 "nbformat_minor": 2
}
